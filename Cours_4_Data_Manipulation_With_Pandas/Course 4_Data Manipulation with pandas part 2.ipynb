{
 "cells": [
  {
   "cell_type": "markdown",
   "metadata": {},
   "source": [
    "# Aggregating Data"
   ]
  },
  {
   "cell_type": "markdown",
   "metadata": {},
   "source": [
    "## Summary Statistics\n",
    "\n",
    "> Summarise the data set \n",
    "\n",
    "### > data['col_name'].mean()\n",
    "\n",
    ">> Tells the mean of the particular column \n",
    "\n",
    "### > data['col_name'].median()\n",
    "\n",
    "### > data['col_name'].mode()\n",
    "\n",
    "### > data['col_name'].min()\n",
    "\n",
    "### > data['col_name'].max()\n",
    "\n",
    "### > data['col_name'].var()\n",
    "\n",
    "### > data['col_name'].std()\n",
    "\n",
    "### > data['col_name'].sum()\n",
    "\n",
    "### > data['col_name'].quantile()\n",
    "\n",
    "> def pct30(colname):\n",
    "\n",
    ">>>> return column.quantile(0.3)\n",
    "\n",
    "### > dogs['weight_kg'].agg(pct30)\n",
    "\n",
    "### > data[['col_1','col_2']].agg(pct30)\n",
    "\n",
    "### > data['col_name'].cumsum()\n",
    "\n",
    ">> Used to evaluate cumulative sum\n",
    "\n",
    "### > data['col_name'].cummin()\n",
    "\n",
    "### > data['col_name'].cumprod()"
   ]
  },
  {
   "cell_type": "markdown",
   "metadata": {},
   "source": [
    "## Mean and median\n",
    "\n",
    "Summary statistics are exactly what they sound like - they summarize many numbers in one statistic. For example, mean, median, minimum, maximum, and standard deviation are summary statistics. Calculating summary statistics allows you to get a better sense of your data, even if there's a lot of it.\n",
    "\n",
    "sales is available and pandas is loaded as pd.\n",
    "\n",
    "## Instructions\n",
    "\n",
    "> Explore your new DataFrame first by printing the first few rows of the sales DataFrame.\n",
    "\n",
    "> Print information about the columns in sales.\n",
    "\n",
    "> Print the mean of the weekly_sales column.\n",
    "\n",
    "> Print the median of the weekly_sales column."
   ]
  },
  {
   "cell_type": "code",
   "execution_count": 36,
   "metadata": {},
   "outputs": [
    {
     "name": "stdout",
     "output_type": "stream",
     "text": [
      "   store type  department        date  weekly_sales  is_holiday  \\\n",
      "0      1    A           1  2010-02-05      24924.50       False   \n",
      "1      1    A           1  2010-03-05      21827.90       False   \n",
      "2      1    A           1  2010-04-02      57258.43       False   \n",
      "3      1    A           1  2010-05-07      17413.94       False   \n",
      "4      1    A           1  2010-06-04      17558.09       False   \n",
      "\n",
      "   temperature_c  fuel_price_usd_per_l  unemployment  \n",
      "0       5.727778              0.679451         8.106  \n",
      "1       8.055556              0.693452         8.106  \n",
      "2      16.816667              0.718284         7.808  \n",
      "3      22.527778              0.748928         7.808  \n",
      "4      27.050000              0.714586         7.808  \n",
      "\n",
      "\n",
      "\n",
      "\n",
      "<class 'pandas.core.frame.DataFrame'>\n",
      "Int64Index: 10774 entries, 0 to 10773\n",
      "Data columns (total 9 columns):\n",
      "store                   10774 non-null int64\n",
      "type                    10774 non-null object\n",
      "department              10774 non-null int64\n",
      "date                    10774 non-null object\n",
      "weekly_sales            10774 non-null float64\n",
      "is_holiday              10774 non-null bool\n",
      "temperature_c           10774 non-null float64\n",
      "fuel_price_usd_per_l    10774 non-null float64\n",
      "unemployment            10774 non-null float64\n",
      "dtypes: bool(1), float64(4), int64(2), object(2)\n",
      "memory usage: 768.1+ KB\n",
      "None\n",
      "\n",
      "\n",
      "\n",
      "\n",
      "\n",
      "\n",
      "\n",
      "Mean of walmart sales is =>  23843.950148505668\n",
      "\n",
      "\n",
      "\n",
      "\n",
      "Median of walmart sales is =>  12049.064999999999\n"
     ]
    }
   ],
   "source": [
    "import pandas as pd \n",
    "sales = pd.read_csv(r'C:\\Users\\Garvit\\Desktop\\Machine Learning\\Datacamp\\Cours_4_Data_Manipulation_With_Pandas\\sales.csv', index_col = 0)\n",
    "# Print the head of the sales DataFrame\n",
    "print(sales.head())\n",
    "print()\n",
    "print()\n",
    "print()\n",
    "print()\n",
    "#Print the info about the sales DataFrame\n",
    "print(sales.info())\n",
    "print()\n",
    "print()\n",
    "print()\n",
    "print()\n",
    "print()\n",
    "print()\n",
    "print()\n",
    "# Print the mean of weekly_sales\n",
    "print(\"Mean of walmart sales is => \", sales['weekly_sales'].mean())\n",
    "print()\n",
    "print()\n",
    "print()\n",
    "print()\n",
    "# Print the median of weekly_sales\n",
    "print(\"Median of walmart sales is => \",sales['weekly_sales'].median())\n",
    "\n"
   ]
  },
  {
   "cell_type": "markdown",
   "metadata": {},
   "source": [
    "## Summarizing dates\n",
    "\n",
    "Summary statistics can also be calculated on date columns that have values with the data type datetime64. Some summary statistics — like mean — don't make a ton of sense on dates, but others are super helpful, for example, minimum and maximum, which allow you to see what time range your data covers.\n",
    "\n",
    "sales is available and pandas is loaded as pd.\n",
    "\n",
    "## Instructions\n",
    "\n",
    "> Print the maximum of the date column.\n",
    "\n",
    "> Print the minimum of the date column."
   ]
  },
  {
   "cell_type": "code",
   "execution_count": 17,
   "metadata": {
    "scrolled": true
   },
   "outputs": [
    {
     "name": "stdout",
     "output_type": "stream",
     "text": [
      "   store type  department        date  weekly_sales  is_holiday  \\\n",
      "0      1    A           1  2010-02-05      24924.50       False   \n",
      "1      1    A           1  2010-03-05      21827.90       False   \n",
      "2      1    A           1  2010-04-02      57258.43       False   \n",
      "3      1    A           1  2010-05-07      17413.94       False   \n",
      "4      1    A           1  2010-06-04      17558.09       False   \n",
      "\n",
      "   temperature_c  fuel_price_usd_per_l  unemployment  \n",
      "0       5.727778              0.679451         8.106  \n",
      "1       8.055556              0.693452         8.106  \n",
      "2      16.816667              0.718284         7.808  \n",
      "3      22.527778              0.748928         7.808  \n",
      "4      27.050000              0.714586         7.808  \n",
      "\n",
      "Minimum date is =>  2010-02-05\n",
      "\n",
      "Maximum date is =>  2012-10-26\n"
     ]
    }
   ],
   "source": [
    "print(sales.head())\n",
    "print()\n",
    "print(\"Minimum date is => \",sales['date'].min())\n",
    "print()\n",
    "print(\"Maximum date is => \",sales['date'].max())"
   ]
  },
  {
   "cell_type": "markdown",
   "metadata": {},
   "source": [
    "## Efficient summaries\n",
    "\n",
    "While pandas and NumPy have tons of functions, sometimes, you may need a different function to summarize your data.\n",
    "\n",
    "The .agg() method allows you to apply your own custom functions to a DataFrame, as well as apply functions to more than one column of a DataFrame at once, making your aggregations super-efficient. For example,\n",
    "\n",
    "df['column'].agg(function)\n",
    "In the custom function for this exercise, \"IQR\" is short for inter-quartile range, which is the 75th percentile minus the 25th percentile. It's an alternative to standard deviation that is helpful if your data contains outliers.\n",
    "\n",
    "sales is available and pandas is loaded as pd.\n",
    "\n",
    "## Instructions 1/3\n",
    "\n",
    "> Use the custom iqr function defined for you along with .agg() to print the IQR of the temperature_c column of sales.\n",
    "\n",
    "\n",
    "> Update the column selection to use the custom iqr function with .agg() to print the IQR of temperature_c, fuel_price_usd_per_l, and unemployment, in that order.\n",
    "\n",
    "> Update the aggregation functions called by .agg(): include iqr and np.median in that order."
   ]
  },
  {
   "cell_type": "code",
   "execution_count": 18,
   "metadata": {},
   "outputs": [
    {
     "name": "stdout",
     "output_type": "stream",
     "text": [
      "16.58333333333334\n"
     ]
    }
   ],
   "source": [
    "# A custom IQR function\n",
    "def iqr(column):\n",
    "    return column.quantile(0.75) - column.quantile(0.25)\n",
    "    \n",
    "# Print IQR of the temperature_c column\n",
    "print(sales['temperature_c'].agg(iqr))"
   ]
  },
  {
   "cell_type": "code",
   "execution_count": 19,
   "metadata": {},
   "outputs": [
    {
     "name": "stdout",
     "output_type": "stream",
     "text": [
      "temperature_c           16.583333\n",
      "fuel_price_usd_per_l     0.073176\n",
      "unemployment             0.565000\n",
      "dtype: float64\n"
     ]
    }
   ],
   "source": [
    "# A custom IQR function\n",
    "def iqr(column):\n",
    "    return column.quantile(0.75) - column.quantile(0.25)\n",
    "\n",
    "# Update to print IQR of temperature_c, fuel_price_usd_per_l, & unemployment\n",
    "print(sales[[\"temperature_c\", 'fuel_price_usd_per_l', 'unemployment']].agg(iqr))"
   ]
  },
  {
   "cell_type": "code",
   "execution_count": 20,
   "metadata": {
    "scrolled": true
   },
   "outputs": [
    {
     "name": "stdout",
     "output_type": "stream",
     "text": [
      "        temperature_c  fuel_price_usd_per_l  unemployment\n",
      "iqr         16.583333              0.073176         0.565\n",
      "median      16.966667              0.743381         8.099\n"
     ]
    }
   ],
   "source": [
    "# Import NumPy and create custom IQR function\n",
    "import numpy as np\n",
    "def iqr(column):\n",
    "    return column.quantile(0.75) - column.quantile(0.25)\n",
    "\n",
    "# Update to print IQR and median of temperature_c, fuel_price_usd_per_l, & unemployment\n",
    "print(sales[[\"temperature_c\", \"fuel_price_usd_per_l\", \"unemployment\"]].agg([iqr,np.median] ))"
   ]
  },
  {
   "cell_type": "markdown",
   "metadata": {},
   "source": [
    "## Cumulative statistics\n",
    "\n",
    "Cumulative statistics can also be helpful in tracking summary statistics over time. In this exercise, you'll calculate the cumulative sum and cumulative max of a department's weekly sales, which will allow you to identify what the total sales were so far as well as what the highest weekly sales were so far.\n",
    "\n",
    "A DataFrame called sales_1_1 has been created for you, which contains the sales data for department 1 of store 1. pandas is loaded as pd.\n",
    "\n",
    "## Instructions\n",
    "\n",
    "> Sort the rows of sales_1_1 by the date column in ascending order.\n",
    "\n",
    "> Get the cumulative sum of weekly_sales and add it as a new column of sales_1_1 called cum_weekly_sales.\n",
    "\n",
    "> Get the cumulative maximum of weekly_sales, and add it as a column called cum_max_sales.\n",
    "\n",
    "> Print the date, weekly_sales, cum_weekly_sales, and cum_max_sales column"
   ]
  },
  {
   "cell_type": "code",
   "execution_count": 23,
   "metadata": {},
   "outputs": [
    {
     "name": "stdout",
     "output_type": "stream",
     "text": [
      "   store type  department        date  weekly_sales  is_holiday  \\\n",
      "0      1    A           1  2010-02-05      24924.50       False   \n",
      "1      1    A           1  2010-03-05      21827.90       False   \n",
      "2      1    A           1  2010-04-02      57258.43       False   \n",
      "3      1    A           1  2010-05-07      17413.94       False   \n",
      "4      1    A           1  2010-06-04      17558.09       False   \n",
      "\n",
      "   temperature_c  fuel_price_usd_per_l  unemployment  \n",
      "0       5.727778              0.679451         8.106  \n",
      "1       8.055556              0.693452         8.106  \n",
      "2      16.816667              0.718284         7.808  \n",
      "3      22.527778              0.748928         7.808  \n",
      "4      27.050000              0.714586         7.808  \n"
     ]
    }
   ],
   "source": [
    "condn = (sales['store'] == 1)  & (sales['department'] == 1)\n",
    "sales_1_1 = sales[condn]"
   ]
  },
  {
   "cell_type": "code",
   "execution_count": 24,
   "metadata": {
    "scrolled": true
   },
   "outputs": [
    {
     "name": "stdout",
     "output_type": "stream",
     "text": [
      "   store type  department        date  weekly_sales  is_holiday  \\\n",
      "0      1    A           1  2010-02-05      24924.50       False   \n",
      "1      1    A           1  2010-03-05      21827.90       False   \n",
      "2      1    A           1  2010-04-02      57258.43       False   \n",
      "3      1    A           1  2010-05-07      17413.94       False   \n",
      "4      1    A           1  2010-06-04      17558.09       False   \n",
      "\n",
      "   temperature_c  fuel_price_usd_per_l  unemployment  \n",
      "0       5.727778              0.679451         8.106  \n",
      "1       8.055556              0.693452         8.106  \n",
      "2      16.816667              0.718284         7.808  \n",
      "3      22.527778              0.748928         7.808  \n",
      "4      27.050000              0.714586         7.808  \n",
      "          date  weekly_sales  cum_weekly_sales  cum_max_sales\n",
      "0   2010-02-05      24924.50          24924.50       24924.50\n",
      "1   2010-03-05      21827.90          46752.40       24924.50\n",
      "2   2010-04-02      57258.43         104010.83       57258.43\n",
      "3   2010-05-07      17413.94         121424.77       57258.43\n",
      "4   2010-06-04      17558.09         138982.86       57258.43\n",
      "5   2010-07-02      16333.14         155316.00       57258.43\n",
      "6   2010-08-06      17508.41         172824.41       57258.43\n",
      "7   2010-09-03      16241.78         189066.19       57258.43\n",
      "8   2010-10-01      20094.19         209160.38       57258.43\n",
      "9   2010-11-05      34238.88         243399.26       57258.43\n",
      "10  2010-12-03      22517.56         265916.82       57258.43\n",
      "11  2011-01-07      15984.24         281901.06       57258.43\n"
     ]
    }
   ],
   "source": [
    "# Sort sales_1_1 by date\n",
    "sales_1_1 = sales_1_1.sort_values('date')\n",
    "print(sales_1_1.head())\n",
    "\n",
    "# Get the cumulative sum of weekly_sales, add as cum_weekly_sales col\n",
    "sales_1_1['cum_weekly_sales'] = sales_1_1['weekly_sales'].cumsum()\n",
    "\n",
    "# Get the cumulative max of weekly_sales, add as cum_max_sales col\n",
    "sales_1_1['cum_max_sales'] =  sales_1_1['weekly_sales'].cummax()\n",
    "\n",
    "# See the columns you calculated\n",
    "print(sales_1_1[[\"date\", \"weekly_sales\", \"cum_weekly_sales\", \"cum_max_sales\"]])\n"
   ]
  },
  {
   "cell_type": "markdown",
   "metadata": {},
   "source": [
    "# Counting \n",
    "\n",
    "### data.drop_duplicates(subset = 'column_name')\n",
    "\n",
    ">> Uesed to remove the duplicates \n",
    "\n",
    "###  new_data = data.drop_duplicates(subset = ['col_1','col_2'])\n",
    "\n",
    ">> Used to remove the duplicates considering more than 2 columns \n",
    "\n",
    "### data['col_name'].value_counts()\n",
    "\n",
    ">> To count the values in the particular column how many times its  occuring\n",
    "\n",
    "### data['col_name'].value_counts(sort = True)\n",
    "\n",
    ">> To count the values in the particular column how many times its  occuring and to sort them in ascending order and descending order \n",
    "\n",
    "\n",
    "###  data['col_name'].value_counts(normalize = True)\n",
    "\n",
    ">> To normalize the value in proportion to total \n",
    "\n"
   ]
  },
  {
   "cell_type": "markdown",
   "metadata": {},
   "source": [
    "## Dropping duplicates\n",
    "Removing duplicates is an essential skill to get accurate counts because often, you don't want to count the same thing multiple times. In this exercise, you'll create some new DataFrames using unique values from sales.\n",
    "\n",
    "sales is available and pandas is imported as pd.\n",
    "\n",
    "## Instructions\n",
    "\n",
    "> Remove rows of sales with duplicate pairs of store and type and save as store_types and print the head.\n",
    "\n",
    "> Remove rows of sales with duplicate pairs of store and department and save as store_depts and print the head.\n",
    "\n",
    "> Subset the rows that are holiday weeks using the is_holiday column, and drop the duplicate dates, saving as holiday_dates.\n",
    "\n",
    "> Select the date column of holiday_dates, and print."
   ]
  },
  {
   "cell_type": "code",
   "execution_count": 32,
   "metadata": {},
   "outputs": [
    {
     "name": "stdout",
     "output_type": "stream",
     "text": [
      "      store type  department        date  weekly_sales  is_holiday  \\\n",
      "0         1    A           1  2010-02-05      24924.50       False   \n",
      "901       2    A           1  2010-02-05      35034.06       False   \n",
      "1798      4    A           1  2010-02-05      38724.42       False   \n",
      "2699      6    A           1  2010-02-05      25619.00       False   \n",
      "3593     10    B           1  2010-02-05      40212.84       False   \n",
      "\n",
      "      temperature_c  fuel_price_usd_per_l  unemployment  \n",
      "0          5.727778              0.679451         8.106  \n",
      "901        4.550000              0.679451         8.324  \n",
      "1798       6.533333              0.686319         8.623  \n",
      "2699       4.683333              0.679451         7.259  \n",
      "3593      12.411111              0.782478         9.765  \n",
      "\n",
      "\n",
      "\n",
      "\n",
      "    store type  department        date  weekly_sales  is_holiday  \\\n",
      "0       1    A           1  2010-02-05      24924.50       False   \n",
      "12      1    A           2  2010-02-05      50605.27       False   \n",
      "24      1    A           3  2010-02-05      13740.12       False   \n",
      "36      1    A           4  2010-02-05      39954.04       False   \n",
      "48      1    A           5  2010-02-05      32229.38       False   \n",
      "\n",
      "    temperature_c  fuel_price_usd_per_l  unemployment  \n",
      "0        5.727778              0.679451         8.106  \n",
      "12       5.727778              0.679451         8.106  \n",
      "24       5.727778              0.679451         8.106  \n",
      "36       5.727778              0.679451         8.106  \n",
      "48       5.727778              0.679451         8.106  \n",
      "\n",
      "\n",
      "\n",
      "\n",
      "498     2010-09-10\n",
      "691     2011-11-25\n",
      "2315    2010-02-12\n",
      "6735    2012-09-07\n",
      "6810    2010-12-31\n",
      "6815    2012-02-10\n",
      "6820    2011-09-09\n",
      "Name: date, dtype: object\n"
     ]
    }
   ],
   "source": [
    "\n",
    "# Drop duplicate store/type combinations\n",
    "store_types = sales.drop_duplicates(subset = ['store','type'])\n",
    "print(store_types.head())\n",
    "print()\n",
    "print()\n",
    "print()\n",
    "print()\n",
    "# Drop duplicate store/department combinations\n",
    "store_depts = sales.drop_duplicates(subset = ['store','department'])\n",
    "print(store_depts.head())\n",
    "print()\n",
    "print()\n",
    "print()\n",
    "print()\n",
    "# Subset the rows where is_holiday is True and drop duplicate dates\n",
    "holiday_dates = sales[sales['is_holiday'] == True].drop_duplicates(subset = 'date')\n",
    "\n",
    "# Print date col of holiday_dates\n",
    "print(holiday_dates['date'])\n"
   ]
  },
  {
   "cell_type": "markdown",
   "metadata": {},
   "source": [
    "### Counting categorical variables\n",
    "Counting is a great way to get an overview of your data and to spot curiosities that you might not notice otherwise. In this exercise, you'll count the number of each type of store and the number of each department number using the DataFrames you created in the previous exercise:\n",
    "\n",
    "#### Drop duplicate store/type combinations\n",
    "store_types = sales.drop_duplicates(subset=[\"store\", \"type\"])\n",
    "\n",
    "####  Drop duplicate store/department combinations\n",
    "store_depts = sales.drop_duplicates(subset=[\"store\", \"department\"])\n",
    "The store_types and store_depts DataFrames you created in the last exercise are available, and pandas is imported as pd.\n",
    "\n",
    "### Instructions\n",
    "\n",
    "> Count the number of stores of each store type in store_types.\n",
    "\n",
    "> Count the proportion of stores of each store type in store_types.\n",
    "\n",
    "> Count the number of different departments in store_depts, sorting the counts in descending order.\n",
    "\n",
    "> Count the proportion of different departments in store_depts, sorting the proportions in descending order."
   ]
  },
  {
   "cell_type": "code",
   "execution_count": 41,
   "metadata": {},
   "outputs": [
    {
     "name": "stdout",
     "output_type": "stream",
     "text": [
      "A    11\n",
      "B     1\n",
      "Name: type, dtype: int64\n",
      "\n",
      "\n",
      "\n",
      "\n",
      "A    0.916667\n",
      "B    0.083333\n",
      "Name: type, dtype: float64\n",
      "\n",
      "\n",
      "\n",
      "\n",
      "95    144\n",
      "91    144\n",
      "18    144\n",
      "26    144\n",
      "34    144\n",
      "42    144\n",
      "58    144\n",
      "74    144\n",
      "82    144\n",
      "90    144\n",
      "98    144\n",
      "3     144\n",
      "11    144\n",
      "27    144\n",
      "35    144\n",
      "59    144\n",
      "87    144\n",
      "10    144\n",
      "2     144\n",
      "97    144\n",
      "80    144\n",
      "16    144\n",
      "24    144\n",
      "32    144\n",
      "40    144\n",
      "56    144\n",
      "72    144\n",
      "1     144\n",
      "81    144\n",
      "9     144\n",
      "     ... \n",
      "55    144\n",
      "71    144\n",
      "79    144\n",
      "93    144\n",
      "8     144\n",
      "28    144\n",
      "12    144\n",
      "20    144\n",
      "29    144\n",
      "21    144\n",
      "13    144\n",
      "5     144\n",
      "92    144\n",
      "60    144\n",
      "52    144\n",
      "44    144\n",
      "36    144\n",
      "19    140\n",
      "96    138\n",
      "45    126\n",
      "99    123\n",
      "37    120\n",
      "47    114\n",
      "51     99\n",
      "48     90\n",
      "50     72\n",
      "78     56\n",
      "77     39\n",
      "39      7\n",
      "43      2\n",
      "Name: department, Length: 80, dtype: int64\n",
      "\n",
      "\n",
      "\n",
      "\n",
      "95    0.013366\n",
      "91    0.013366\n",
      "18    0.013366\n",
      "26    0.013366\n",
      "34    0.013366\n",
      "42    0.013366\n",
      "58    0.013366\n",
      "74    0.013366\n",
      "82    0.013366\n",
      "90    0.013366\n",
      "98    0.013366\n",
      "3     0.013366\n",
      "11    0.013366\n",
      "27    0.013366\n",
      "35    0.013366\n",
      "59    0.013366\n",
      "87    0.013366\n",
      "10    0.013366\n",
      "2     0.013366\n",
      "97    0.013366\n",
      "80    0.013366\n",
      "16    0.013366\n",
      "24    0.013366\n",
      "32    0.013366\n",
      "40    0.013366\n",
      "56    0.013366\n",
      "72    0.013366\n",
      "1     0.013366\n",
      "81    0.013366\n",
      "9     0.013366\n",
      "        ...   \n",
      "55    0.013366\n",
      "71    0.013366\n",
      "79    0.013366\n",
      "93    0.013366\n",
      "8     0.013366\n",
      "28    0.013366\n",
      "12    0.013366\n",
      "20    0.013366\n",
      "29    0.013366\n",
      "21    0.013366\n",
      "13    0.013366\n",
      "5     0.013366\n",
      "92    0.013366\n",
      "60    0.013366\n",
      "52    0.013366\n",
      "44    0.013366\n",
      "36    0.013366\n",
      "19    0.012994\n",
      "96    0.012809\n",
      "45    0.011695\n",
      "99    0.011416\n",
      "37    0.011138\n",
      "47    0.010581\n",
      "51    0.009189\n",
      "48    0.008353\n",
      "50    0.006683\n",
      "78    0.005198\n",
      "77    0.003620\n",
      "39    0.000650\n",
      "43    0.000186\n",
      "Name: department, Length: 80, dtype: float64\n"
     ]
    }
   ],
   "source": [
    "# Count the number of stores of each type\n",
    "store_counts = store_types['type'].value_counts(sort = True)\n",
    "print(store_counts)\n",
    "#print(sales.head())\n",
    "\n",
    "print()\n",
    "print()\n",
    "print()\n",
    "print()\n",
    "# Get the proportion of stores of each type\n",
    "\n",
    "store_props = store_types['type'].value_counts(normalize = True)\n",
    "print(store_props)\n",
    "\n",
    "print()\n",
    "print()\n",
    "print()\n",
    "print()\n",
    "\n",
    "# Count the number of each department number and sort\n",
    "dept_counts_sorted = sales['department'].value_counts(sort = True)\n",
    "print(dept_counts_sorted)\n",
    "\n",
    "print()\n",
    "print()\n",
    "print()\n",
    "print()\n",
    "# Get the proportion of departments of each number and sort\n",
    "dept_props_sorted = sales['department'].value_counts(sort=True, normalize=True)\n",
    "print(dept_props_sorted)\n",
    "\n"
   ]
  },
  {
   "cell_type": "markdown",
   "metadata": {},
   "source": [
    "# Grouped Summary Statistics \n",
    "\n",
    "## data.groupby('col_name')['int_col'].mean()\n",
    "\n",
    ">> mean weight of each dog color b\n",
    "\n",
    "\n",
    "## data.groupby('col_name')['int_col'].agg(min,maz,sum)\n",
    "\n",
    ">> TO generate multiple results \n",
    "\n",
    "## data.groupby(['col_1','col_2'])['int_col'].agg(min,maz,sum)\n",
    "\n",
    "## data.groupby(['col_1','col_2'])[['col_1','col_2']].agg(min,maz,sum)"
   ]
  },
  {
   "cell_type": "markdown",
   "metadata": {},
   "source": [
    "### What percent of sales occurred at each store type?\n",
    "While .groupby() is useful, you can calculate grouped summary statistics without it.\n",
    "\n",
    "Walmart distinguishes three types of stores: \"supercenters,\" \"discount stores,\" and \"neighborhood markets,\" encoded in this dataset as type \"A,\" \"B,\" and \"C.\" In this exercise, you'll calculate the total sales made at each store type, without using .groupby(). You can then use these numbers to see what proportion of Walmart's total sales were made at each type.\n",
    "\n",
    "sales is available and pandas is imported as pd.\n",
    "\n",
    "### Instructions\n",
    "\n",
    "> Calculate the total weekly_sales over the whole dataset.\n",
    "\n",
    "> Subset for type \"A\" stores, and calculate their total weekly sales.\n",
    "\n",
    "> Do the same for type \"B\" and type \"C\" stores.\n",
    "\n",
    "> Combine the A/B/C results into a list, and divide by sales_all to get the proportion of sales by type."
   ]
  },
  {
   "cell_type": "code",
   "execution_count": 50,
   "metadata": {
    "scrolled": true
   },
   "outputs": [
    {
     "name": "stdout",
     "output_type": "stream",
     "text": [
      "Total weekly sales for the whole data  set is  =  256894718.89999998\n",
      "Total weekly sales for the type A store is  =  233716315.01\n",
      "Total weekly sales for the type B store is  =  23178403.89\n",
      "Total weekly sales for the type C  store is =  0.0\n",
      "[0.9097747 0.0902253 0.       ]\n"
     ]
    }
   ],
   "source": [
    "# Calc total weekly sales\n",
    "sales_all = sales[\"weekly_sales\"].sum()\n",
    "print(\"Total weekly sales for the whole data  set is  = \", sales_all)\n",
    "\n",
    "sales_A = sales[sales[\"type\"] == \"A\"][\"weekly_sales\"].sum()\n",
    "print(\"Total weekly sales for the type A store is  = \", sales_A)\n",
    "\n",
    "# Subset for type B stores, calc total weekly sales\n",
    "sales_B = sales[sales[\"type\"] == \"B\"][\"weekly_sales\"].sum()\n",
    "print(\"Total weekly sales for the type B store is  = \", sales_B)\n",
    "\n",
    "\n",
    "# Subset for type C stores, calc total weekly sales\n",
    "sales_C = sales[sales[\"type\"] == \"C\"][\"weekly_sales\"].sum()\n",
    "print(\"Total weekly sales for the type C  store is = \", sales_C)\n",
    "# Get proportion for each type\n",
    "sales_propn_by_type = [sales_A, sales_B, sales_C] / sales_all\n",
    "print(sales_propn_by_type)"
   ]
  },
  {
   "cell_type": "markdown",
   "metadata": {},
   "source": [
    "### Calculations with .groupby()\n",
    "The .groupby() method makes life much easier. In this exercise, you'll perform the same calculations as last time, except you'll use the .groupby() method. You'll also perform calculations on data grouped by two variables to see if sales differ by store type depending on if it's a holiday week or not.\n",
    "\n",
    "sales is available and pandas is loaded as pd.\n",
    "\n",
    "## Instructions 1/2\n",
    "\n",
    "> Group sales by \"type\", take the sum of \"weekly_sales\", and store as sales_by_type.\n",
    "\n",
    "> Calculate the proportion of sales at each store type by dividing by the sum of sales_by_type. Assign to sales_propn_by_type.\n",
    "\n",
    "> Group sales by \"type\" and \"is_holiday\", take the sum of weekly_sales, and store as sales_by_type_is_holiday."
   ]
  },
  {
   "cell_type": "code",
   "execution_count": 56,
   "metadata": {
    "scrolled": true
   },
   "outputs": [
    {
     "name": "stdout",
     "output_type": "stream",
     "text": [
      "type\n",
      "A    0.909775\n",
      "B    0.090225\n",
      "Name: weekly_sales, dtype: float64\n"
     ]
    }
   ],
   "source": [
    "# Group by type; calc total weekly sales\n",
    "sales_by_type = sales.groupby(\"type\")[\"weekly_sales\"].sum()\n",
    "# print(sales_by_type)\n",
    "# print(sales_by_type['A'])\n",
    "# Get proportion for each type\n",
    "sales_propn_by_type = sales_by_type /( sales_by_type['A'] + sales_by_type['B'])\n",
    "print(sales_propn_by_type)"
   ]
  },
  {
   "cell_type": "code",
   "execution_count": 58,
   "metadata": {
    "scrolled": true
   },
   "outputs": [
    {
     "name": "stdout",
     "output_type": "stream",
     "text": [
      "type  is_holiday\n",
      "A     False         2.336927e+08\n",
      "      True          2.360181e+04\n",
      "B     False         2.317678e+07\n",
      "      True          1.621410e+03\n",
      "Name: weekly_sales, dtype: float64\n"
     ]
    }
   ],
   "source": [
    "# From previous step\n",
    "sales_by_type = sales.groupby(\"type\")[\"weekly_sales\"].sum()\n",
    "\n",
    "# Group by type and is_holiday; calc total weekly sales\n",
    "sales_by_type_is_holiday = sales.groupby([\"type\", \"is_holiday\"])[\"weekly_sales\"].sum()\n",
    "print(sales_by_type_is_holiday)"
   ]
  },
  {
   "cell_type": "markdown",
   "metadata": {},
   "source": [
    "### Multiple grouped summaries\n",
    "\n",
    "Earlier in this chapter, you saw that the .agg() method is useful to compute multiple statistics on multiple variables. It also works with grouped data. NumPy, which is imported as np, has many different summary statistics functions, including: np.min, np.max, np.mean, and np.median.\n",
    "\n",
    "sales is available and pandas is imported as pd.\n",
    "\n",
    "### Instructions\n",
    "\n",
    "> Import numpy with the alias np.\n",
    "\n",
    "> Get the min, max, mean, and median of weekly_sales for each store type using .groupby() and .agg(). Store this as sales_stats. Make sure to use numpy functions!\n",
    "\n",
    "> Get the min, max, mean, and median of unemployment and fuel_price_usd_per_l for each store type. Store this as unemp_fuel_stats."
   ]
  },
  {
   "cell_type": "code",
   "execution_count": 67,
   "metadata": {},
   "outputs": [
    {
     "name": "stdout",
     "output_type": "stream",
     "text": [
      "        amin       amax          mean    median\n",
      "type                                           \n",
      "A    -1098.0  293966.05  23674.667242  11943.92\n",
      "B     -798.0  232558.51  25696.678370  13336.08\n",
      "\n",
      "\n",
      "\n",
      "     unemployment                         fuel_price_usd_per_l            \\\n",
      "             amin   amax      mean median                 amin      amax   \n",
      "type                                                                       \n",
      "A           3.879  8.992  7.972611  8.067             0.664129  1.107410   \n",
      "B           7.170  9.765  9.279323  9.199             0.760023  1.107674   \n",
      "\n",
      "                          \n",
      "          mean    median  \n",
      "type                      \n",
      "A     0.744619  0.735455  \n",
      "B     0.805858  0.803348  \n"
     ]
    }
   ],
   "source": [
    "# Import numpy with the alias np\n",
    "import numpy as np\n",
    "\n",
    "# For each store type, aggregate weekly_sales: get min, max, mean, and median\n",
    "sales_stats = sales.groupby(\"type\")[\"weekly_sales\"].agg([np.min, np.max, np.mean, np.median])\n",
    "\n",
    "# Print sales_stats\n",
    "print(sales_stats)\n",
    "print()\n",
    "print()\n",
    "print()\n",
    "\n",
    "# For each store type, aggregate unemployment and fuel_price_usd_per_l: get min, max, mean, and median\n",
    "unemp_fuel_stats = sales.groupby(\"type\")[[\"unemployment\", \"fuel_price_usd_per_l\"]].agg([np.min, np.max, np.mean, np.median])\n",
    "\n",
    "# Print unemp_fuel_stats\n",
    "print(unemp_fuel_stats)"
   ]
  },
  {
   "cell_type": "markdown",
   "metadata": {},
   "source": [
    "# Pivot Tables \n",
    "\n",
    "## data.pivot_table(values = \"some_val\", index = \"col_name\")\n",
    "\n",
    "## data.pivot_table(values = \"some_val\", index = \"col_name\", aggfunc = np.median)\n",
    "\n",
    "## data.pivot_table(values = \"some_val\", index = \"col_name\", aggfunc = [np.mean,np,median])\n",
    "\n",
    "\n",
    "## data.pivot_table(values = \"some_val\", index = \"col_name\", columns = \"breed\")\n",
    "\n",
    "## data.pivot_table(values = \"some_val\", index = \"col_name\", columns = \"breed\", fill_value =  0, margins = True)\n",
    "\n"
   ]
  },
  {
   "cell_type": "markdown",
   "metadata": {},
   "source": [
    "### Pivoting on one variable\n",
    "\n",
    "Pivot tables are the standard way of aggregating data in spreadsheets. In pandas, pivot tables are essentially just another way of performing grouped calculations. That is, the .pivot_table() method is just an alternative to .groupby().\n",
    "\n",
    "In this exercise, you'll perform calculations using .pivot_table() to replicate the calculations you performed in the last lesson using .groupby().\n",
    "\n",
    "sales is available and pandas is imported as pd.\n",
    "\n",
    "### Instructions 1/3\n",
    "\n",
    "> Get the mean weekly_sales by type using .pivot_table() and store as mean_sales_by_type.\n",
    "\n",
    "\n",
    "> Get the mean and median (using NumPy functions) of weekly_sales by type using .pivot_table() and store as mean_med_sales_by_type.\n",
    "\n",
    "> Get the mean of weekly_sales by type and is_holiday using .pivot_table() and store as mean_sales_by_type_holiday.\n",
    "\n",
    "> Get the mean and median (using NumPy functions) of weekly_sales by type using .pivot_table() and store as mean_med_sales_by_type.\n",
    "\n",
    "> Get the mean of weekly_sales by type and is_holiday using .pivot_table() and store as mean_sales_by_type_holiday.\n"
   ]
  },
  {
   "cell_type": "code",
   "execution_count": 74,
   "metadata": {
    "scrolled": true
   },
   "outputs": [
    {
     "name": "stdout",
     "output_type": "stream",
     "text": [
      "      weekly_sales\n",
      "type              \n",
      "A     23674.667242\n",
      "B     25696.678370\n"
     ]
    }
   ],
   "source": [
    "# Pivot for mean weekly_sales for each store type\n",
    "mean_sales_by_type = sales.pivot_table(index = \"type\" , values = \"weekly_sales\")\n",
    "\n",
    "# Print mean_sales_by_type\n",
    "print(mean_sales_by_type)"
   ]
  },
  {
   "cell_type": "code",
   "execution_count": 75,
   "metadata": {
    "scrolled": true
   },
   "outputs": [
    {
     "name": "stdout",
     "output_type": "stream",
     "text": [
      "              mean       median\n",
      "      weekly_sales weekly_sales\n",
      "type                           \n",
      "A     23674.667242     11943.92\n",
      "B     25696.678370     13336.08\n"
     ]
    }
   ],
   "source": [
    "# Pivot for mean weekly_sales for each store type\n",
    "mean_sales_by_type = sales.pivot_table(index = \"type\" , values = \"weekly_sales\", aggfunc=[np.mean,np.median])\n",
    "\n",
    "# Print mean_sales_by_type\n",
    "print(mean_sales_by_type)"
   ]
  },
  {
   "cell_type": "code",
   "execution_count": 80,
   "metadata": {
    "scrolled": true
   },
   "outputs": [
    {
     "name": "stdout",
     "output_type": "stream",
     "text": [
      "is_holiday         False      True \n",
      "type                               \n",
      "A           23768.583523  590.04525\n",
      "B           25751.980533  810.70500\n"
     ]
    }
   ],
   "source": [
    "# is_holiday\n",
    "# Pivot for mean weekly_sales by store type and holiday \n",
    "mean_sales_by_type_holiday =sales.pivot_table(index =\"type\" , columns = 'is_holiday', values = \"weekly_sales\")\n",
    "# Print mean_sales_by_type_holiday\n",
    "print(mean_sales_by_type_holiday)"
   ]
  },
  {
   "cell_type": "markdown",
   "metadata": {},
   "source": [
    "## Fill in missing values and sum values with pivot tables\n",
    "\n",
    "The .pivot_table() method has several useful arguments, including fill_value and margins.\n",
    "\n",
    "fill_value replaces missing values with a real value (known as imputation). What to replace missing values with is a topic big enough to have its own course (Dealing with Missing Data in Python), but the simplest thing to do is to substitute a dummy value.\n",
    "margins is a shortcut for when you pivoted by two variables, but also wanted to pivot by each of those variables separately: it gives the row and column totals of the pivot table contents.\n",
    "In this exercise, you'll practice using these arguments to up your pivot table skills, which will help you crunch numbers more efficiently!\n",
    "\n",
    "sales is available and pandas is imported as pd.\n",
    "\n",
    "## Instructions 1/2\n",
    "\n",
    "> Print the mean weekly_sales by department and type, filling in any missing values with 0.\n",
    "\n",
    "\n",
    "> Print the mean weekly_sales by department and type, filling in any missing values with 0 and summing all rows and columns."
   ]
  },
  {
   "cell_type": "code",
   "execution_count": 83,
   "metadata": {
    "scrolled": true
   },
   "outputs": [
    {
     "name": "stdout",
     "output_type": "stream",
     "text": [
      "department            1              2             3             4   \\\n",
      "type                                                                  \n",
      "A           30961.725379   67600.158788  17160.002955  44285.399091   \n",
      "B           44050.626667  112958.526667  30580.655000  51219.654167   \n",
      "\n",
      "department            5             6             7             8   \\\n",
      "type                                                                 \n",
      "A           34821.011364   7136.292652  38454.336818  48583.475303   \n",
      "B           63236.875000  10717.297500  52909.653333  90733.753333   \n",
      "\n",
      "department            9             10     ...                90  \\\n",
      "type                                       ...                     \n",
      "A           30120.449924  30930.456364     ...      85776.905909   \n",
      "B           66679.301667  48595.126667     ...      14780.210000   \n",
      "\n",
      "department            91             92            93            94  \\\n",
      "type                                                                  \n",
      "A           70423.165227  139722.204773  53413.633939  60081.155303   \n",
      "B           13199.602500   50859.278333   1466.274167    161.445833   \n",
      "\n",
      "department             95            96            97            98  \\\n",
      "type                                                                  \n",
      "A           123933.787121  21367.042857  28471.266970  12875.423182   \n",
      "B            77082.102500   9528.538333   5828.873333    217.428333   \n",
      "\n",
      "department          99  \n",
      "type                    \n",
      "A           379.123659  \n",
      "B             0.000000  \n",
      "\n",
      "[2 rows x 80 columns]\n"
     ]
    }
   ],
   "source": [
    "# Print mean weekly_sales by department and type; fill missing values with 0\n",
    "print(sales.pivot_table(index = 'type',columns =  'department', values = 'weekly_sales',fill_value =  0))"
   ]
  },
  {
   "cell_type": "code",
   "execution_count": 89,
   "metadata": {},
   "outputs": [
    {
     "name": "stdout",
     "output_type": "stream",
     "text": [
      "type                    A              B            All\n",
      "department                                             \n",
      "1            30961.725379   44050.626667   32052.467153\n",
      "2            67600.158788  112958.526667   71380.022778\n",
      "3            17160.002955   30580.655000   18278.390625\n",
      "4            44285.399091   51219.654167   44863.253681\n",
      "5            34821.011364   63236.875000   37189.000000\n",
      "6             7136.292652   10717.297500    7434.709722\n",
      "7            38454.336818   52909.653333   39658.946528\n",
      "8            48583.475303   90733.753333   52095.998472\n",
      "9            30120.449924   66679.301667   33167.020903\n",
      "10           30930.456364   48595.126667   32402.512222\n",
      "11           23028.312727   35488.429167   24066.655764\n",
      "12            6786.840606    9656.520000    7025.980556\n",
      "13           51398.168561   67213.587500   52716.120139\n",
      "14           22457.695303   40400.020000   23952.889028\n",
      "16           25202.751894   29558.182500   25565.704444\n",
      "17           16167.586136   27675.351667   17126.566597\n",
      "18           12201.771212   17361.347500   12631.735903\n",
      "19            1560.951719    3365.895000    1715.661143\n",
      "20            8312.070227   16191.810000    8968.715208\n",
      "21            9324.387197   10368.968333    9411.435625\n",
      "22           14225.324167   26044.797500   15210.280278\n",
      "23           29350.745076   63960.273333   32234.872431\n",
      "24            8204.587576   15376.829167    8802.274375\n",
      "25           13382.164242   20619.285000   13985.257639\n",
      "26           11254.311212   17535.457500   11777.740069\n",
      "27            2079.160455    4553.720833    2285.373819\n",
      "28             968.247348    1422.762500    1006.123611\n",
      "29            6859.108485   14999.843333    7537.503056\n",
      "30            5403.619773   12442.080000    5990.158125\n",
      "31            3221.001818    6151.995000    3465.251250\n",
      "...                   ...            ...            ...\n",
      "54             221.288030     551.016667     248.765417\n",
      "55           15368.005985   20420.726667   15789.066042\n",
      "56            5529.171136     992.310000    5151.099375\n",
      "58            6510.454621    5156.833333    6397.652847\n",
      "59            1358.490530    2536.538333    1456.661181\n",
      "60             461.176591     577.850000     470.899375\n",
      "67           12064.737500   13327.714167   12169.985556\n",
      "71            7486.394318   15945.855000    8191.349375\n",
      "72           72767.860227  145237.726667   78807.015764\n",
      "74           22097.090152   44480.321667   23962.359444\n",
      "77             370.651316    1590.000000     401.916667\n",
      "78               8.893878       1.714286       7.996429\n",
      "79           40643.113106   39802.038333   40573.023542\n",
      "80           22425.941667     116.680000   20566.836528\n",
      "81           28417.831061   11084.591667   26973.394444\n",
      "82           21698.068561   21943.495833   21718.520833\n",
      "83            7020.960985     327.011667    6463.131875\n",
      "85            3593.235379    2887.316667    3534.408819\n",
      "87           22549.672045   21829.132500   22489.627083\n",
      "90           85776.905909   14780.210000   79860.514583\n",
      "91           70423.165227   13199.602500   65654.535000\n",
      "92          139722.204773   50859.278333  132316.960903\n",
      "93           53413.633939    1466.274167   49084.687292\n",
      "94           60081.155303     161.445833   55087.846181\n",
      "95          123933.787121   77082.102500  120029.480069\n",
      "96           21367.042857    9528.538333   20337.607681\n",
      "97           28471.266970    5828.873333   26584.400833\n",
      "98           12875.423182     217.428333   11820.590278\n",
      "99             379.123659       0.000000     379.123659\n",
      "All          23674.667242   25696.678370   23843.950149\n",
      "\n",
      "[81 rows x 3 columns]\n"
     ]
    }
   ],
   "source": [
    "# Print the mean weekly_sales by department and type; fill missing values with 0s; sum all rows and cols\n",
    "print(sales.pivot_table(values=\"weekly_sales\", index=\"department\", columns=\"type\", fill_value =  0, margins = True))"
   ]
  }
 ],
 "metadata": {
  "kernelspec": {
   "display_name": "Python 3",
   "language": "python",
   "name": "python3"
  },
  "language_info": {
   "codemirror_mode": {
    "name": "ipython",
    "version": 3
   },
   "file_extension": ".py",
   "mimetype": "text/x-python",
   "name": "python",
   "nbconvert_exporter": "python",
   "pygments_lexer": "ipython3",
   "version": "3.7.1"
  }
 },
 "nbformat": 4,
 "nbformat_minor": 2
}
