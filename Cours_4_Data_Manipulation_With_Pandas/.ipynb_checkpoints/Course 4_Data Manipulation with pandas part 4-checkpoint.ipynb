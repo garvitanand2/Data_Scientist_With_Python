{
 "cells": [
  {
   "cell_type": "markdown",
   "metadata": {},
   "source": [
    "# Visualizing your Data: "
   ]
  },
  {
   "cell_type": "markdown",
   "metadata": {},
   "source": [
    "## import matplotlib.pyplot as plt\n",
    "\n",
    "## data['col_name'].hist(bins = no_of_bars)\n",
    "\n",
    ">> Creating the histogran by selecting the column and building the histgram for the same\n",
    "\n",
    "## plt.show()\n",
    "\n",
    "\n",
    "### avg_weight_by_breed = dog_data.groupby('breed')['weight_kg].mean()\n",
    "\n",
    "\n",
    "## avg_weight_by_breed.plot(kind = \"bar\", title = \"Some title\")\n",
    "\n",
    "## data.plot(x = \"date\", y = \"weight\", kind = \"line\", rot = 45)\n",
    "\n",
    ">> Rot is passed to tilt the x axis so that we can view easidly\n",
    "\n",
    "\n",
    "# Layering Plots \n",
    "\n",
    "## dog_date[dog_data['sex']=='F']['height_cm'].hist(alpha = 0.7)\n",
    "\n",
    "## dog_date[dog_data['sex']=='M']['height_cm'].hist(alpha=0.7)\n",
    "\n",
    "\n",
    "## plt.legen(['F','M'])\n",
    "\n",
    ">> Used to show side labels in the graph \n",
    "\n",
    ">> Alpha is used to make the color opacity \n",
    "\n",
    "\n",
    "\n"
   ]
  },
  {
   "cell_type": "markdown",
   "metadata": {},
   "source": [
    "## Which avocado size is most popular?\n",
    "Avocados are increasingly popular and delicious in guacamole and on toast. The Hass Avocado Board keeps track of avocado supply and demand across the USA, including the sales of three different sizes of avocado. In this exercise, you'll use a bar plot to figure out which size is the most popular.\n",
    "\n",
    "Bar plots are great for revealing relationships between categorical (size) and numeric (number sold) variables, but you'll often have to manipulate your data first in order to get the numbers you need for plotting.\n",
    "\n",
    "pandas has been imported as pd, and avocados is available.\n",
    "\n",
    "## Instructions\n",
    "\n",
    "> Print the head of the avocados dataset. What columns are available?\n",
    "\n",
    "> For each avocado size group, calculate the total number sold, storing as nb_sold_by_size.\n",
    "\n",
    "> Create a bar plot of the number of avocados sold by size.\n",
    "\n",
    "> Show the plot."
   ]
  },
  {
   "cell_type": "code",
   "execution_count": 12,
   "metadata": {},
   "outputs": [],
   "source": [
    "# # Import matplotlib.pyplot with alias plt\n",
    "# import matplotlib.pyplot as plt\n",
    "\n",
    "# # Look at the first few rows of data\n",
    "# print(avocados.head())\n",
    "\n",
    "# #Get the total number of avocados sold of each size\n",
    "# nb_sold_by_size = avocados.groupby('size')['nb_sold'].mean()\n",
    "\n",
    "# print(nb_sold_by_size)\n",
    "\n",
    "# # Create a bar plot of the number of avocados sold by size\n",
    "# nb_sold_by_size.plot()\n",
    "\n",
    "# # Show the plot\n",
    "# plt.show()"
   ]
  },
  {
   "cell_type": "markdown",
   "metadata": {},
   "source": [
    "## Changes in sales over time\n",
    "Line plots are designed to visualize the relationship between two numeric variables, where each data values is connected to the next one. They are especially useful for visualizing the change in a number over time since each time point is naturally connected to the next time point. In this exercise, you'll visualize the change in avocado sales over three years.\n",
    "\n",
    "pandas has been imported as pd.\n",
    "\n",
    "## Instructions\n",
    "\n",
    "> Get the total number of avocados sold on each date. The DataFrame has two rows for each date -- one for organic, and one for conventional. Save this as nb_sold_by_date.\n",
    "\n",
    "> Create a line plot of the number of avocados sold.\n",
    "\n",
    "> Show the plot."
   ]
  },
  {
   "cell_type": "code",
   "execution_count": 13,
   "metadata": {},
   "outputs": [],
   "source": [
    "# # Import matplotlib.pyplot with alias plt\n",
    "# import matplotlib.pyplot as plt\n",
    "\n",
    "# # Get the total number of avocados sold on each date\n",
    "# nb_sold_by_date = avocados.groupby('date')['nb_sold'].sum()\n",
    "\n",
    "# # Create a line plot of the number of avocados sold by date\n",
    "# nb_sold_by_date.plot(kind = 'line')\n",
    "\n",
    "# # Show the plot\n",
    "# plt.show()"
   ]
  },
  {
   "cell_type": "markdown",
   "metadata": {},
   "source": [
    "## Avocado supply and demand\n",
    "Scatter plots are ideal for visualizing relationships between numerical variables. In this exercise, you'll compare the number of avocados sold to average price and see if they're at all related. If they're related, you may be able to use one number to predict the other.\n",
    "\n",
    "matplotlib.pyplot has been imported as plt and pandas has been imported as pd.\n",
    "\n",
    "## Instructions\n",
    "\n",
    "> Create a scatter plot with nb_sold on the x-axis and avg_price on the y-axis. Title it \"Number of avocados sold vs. average price\".\n",
    "\n",
    "> Show the plot."
   ]
  },
  {
   "cell_type": "code",
   "execution_count": null,
   "metadata": {},
   "outputs": [],
   "source": [
    "# # Scatter plot of nb_sold vs avg_price with title\n",
    "# avocados.plot(x=\"nb_sold\", y=\"avg_price\", kind=\"scatter\", title=\"Number of avocados sold vs. average price\")\n",
    "\n",
    "# # Show the plot\n",
    "# plt.show()"
   ]
  },
  {
   "cell_type": "markdown",
   "metadata": {},
   "source": [
    "## Price of conventional vs. organic avocados\n",
    "Creating multiple plots for different subsets of data allows you to compare groups. In this exercise, you'll create multiple histograms to compare the prices of conventional and organic avocados.\n",
    "\n",
    "matplotlib.pyplot has been imported as plt and pandas has been imported as pd.\n",
    "\n",
    "## Instructions 1/3\n",
    "\n",
    "> Subset avocados for the conventional type, and the average price column. Create a histogram.\n",
    "\n",
    "> Create a histogram of avg_price for organic type avocados.\n",
    "\n",
    "> Add a legend to your plot, with the names \"conventional\" and \"organic\".\n",
    "\n",
    "> Show your plot.\n"
   ]
  },
  {
   "cell_type": "code",
   "execution_count": null,
   "metadata": {},
   "outputs": [],
   "source": [
    "# # Histogram of conventional avg_price \n",
    "# avocados[avocados['type'] == \"conventional\" ]['avg_price'].hist()\n",
    "\n",
    "# # Histogram of organic avg_price\n",
    "# avocados[avocados['type'] == \"organic\" ]['avg_price'].hist()\n",
    "\n",
    "\n",
    "# # Add a legend\n",
    "# plt.legend(['conventional', 'organic'])\n",
    "\n",
    "# # Show the plot\n",
    "# plt.show()"
   ]
  },
  {
   "cell_type": "code",
   "execution_count": null,
   "metadata": {},
   "outputs": [],
   "source": []
  }
 ],
 "metadata": {
  "kernelspec": {
   "display_name": "Python 3",
   "language": "python",
   "name": "python3"
  },
  "language_info": {
   "codemirror_mode": {
    "name": "ipython",
    "version": 3
   },
   "file_extension": ".py",
   "mimetype": "text/x-python",
   "name": "python",
   "nbconvert_exporter": "python",
   "pygments_lexer": "ipython3",
   "version": "3.7.1"
  }
 },
 "nbformat": 4,
 "nbformat_minor": 2
}
