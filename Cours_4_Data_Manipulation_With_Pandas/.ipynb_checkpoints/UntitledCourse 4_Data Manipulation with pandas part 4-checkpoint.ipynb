{
 "cells": [
  {
   "cell_type": "markdown",
   "metadata": {},
   "source": [
    "# Visualizing your Data: "
   ]
  },
  {
   "cell_type": "markdown",
   "metadata": {},
   "source": [
    "## import matplotlib.pyplot as plt\n",
    "\n",
    "## data['col_name'].hist(bins = no_of_bars)\n",
    "\n",
    ">> Creating the histogran by selecting the column and building the histgram for the same\n",
    "\n",
    "## plt.show()\n",
    "\n",
    "\n",
    "### avg_weight_by_breed = dog_data.groupby('breed')['weight_kg].mean()\n",
    "\n",
    "\n",
    "## avg_weight_by_breed.plot(kind = \"bar\", title = \"Some title\")\n",
    "\n",
    "## data.plot(x = \"date\", y = \"weight\", kind = \"line\", rot = 45)\n",
    "\n",
    ">> Rot is passed to tilt the x axis so that we can view easidly\n",
    "\n",
    "\n",
    "# Layering Plots \n",
    "\n",
    "## dog_date[dog_data['sex']=='F']['height_cm'].hist(alpha = 0.7)\n",
    "\n",
    "## dog_date[dog_data['sex']=='M']['height_cm'].hist(alpha=0.7)\n",
    "\n",
    "\n",
    "## plt.legen(['F','M'])\n",
    "\n",
    ">> Used to show side labels in the graph \n",
    "\n",
    ">> Alpha is used to make the color opacity \n",
    "\n",
    "\n",
    "\n"
   ]
  },
  {
   "cell_type": "markdown",
   "metadata": {},
   "source": []
  },
  {
   "cell_type": "code",
   "execution_count": 11,
   "metadata": {},
   "outputs": [],
   "source": [
    "import pandas as pd\n",
    "import matplotlib.pyplot as plt\n",
    "import numpy as np \n",
    "\n",
    "# avocados = pd.read_pickle(r'C:/Users\\Garvit\\Desktop\\Machine Learning\\Datacamp\\Cours_4_Data_Manipulation_With_Pandas\\avoplotto.pkl')\n",
    "# print(avocados.head())\n"
   ]
  }
 ],
 "metadata": {
  "kernelspec": {
   "display_name": "Python 3",
   "language": "python",
   "name": "python3"
  },
  "language_info": {
   "codemirror_mode": {
    "name": "ipython",
    "version": 3
   },
   "file_extension": ".py",
   "mimetype": "text/x-python",
   "name": "python",
   "nbconvert_exporter": "python",
   "pygments_lexer": "ipython3",
   "version": "3.7.1"
  }
 },
 "nbformat": 4,
 "nbformat_minor": 2
}
