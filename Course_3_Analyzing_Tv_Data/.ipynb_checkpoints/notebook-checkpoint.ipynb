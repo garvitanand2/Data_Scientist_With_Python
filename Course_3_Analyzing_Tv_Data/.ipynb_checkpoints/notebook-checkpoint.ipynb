{
 "cells": [
  {
   "cell_type": "markdown",
   "metadata": {
    "dc": {
     "key": "3"
    },
    "deletable": false,
    "editable": false,
    "run_control": {
     "frozen": true
    },
    "tags": [
     "context"
    ]
   },
   "source": [
    "## 1. TV, halftime shows, and the Big Game\n",
    "<p>Whether or not you like football, the Super Bowl is a spectacle. There's a little something for everyone at your Super Bowl party. Drama in the form of blowouts, comebacks, and controversy for the sports fan. There are the ridiculously expensive ads, some hilarious, others gut-wrenching, thought-provoking, and weird. The half-time shows with the biggest musicians in the world, sometimes <a href=\"https://youtu.be/ZD1QrIe--_Y?t=14\">riding giant mechanical tigers</a> or <a href=\"https://youtu.be/mjrdywp5nyE?t=62\">leaping from the roof of the stadium</a>. It's a show, baby. And in this notebook, we're going to find out how some of the elements of this show interact with each other. After exploring and cleaning our data a little, we're going to answer questions like:</p>\n",
    "<ul>\n",
    "<li>What are the most extreme game outcomes?</li>\n",
    "<li>How does the game affect television viewership?</li>\n",
    "<li>How have viewership, TV ratings, and ad cost evolved over time?</li>\n",
    "<li>Who are the most prolific musicians in terms of halftime show performances?</li>\n",
    "</ul>\n",
    "<p><img src=\"https://assets.datacamp.com/production/project_684/img/left_shark.jpg\" alt=\"Left Shark Steals The Show\">\n",
    "<em><a href=\"https://www.flickr.com/photos/huntleypaton/16464994135/in/photostream/\">Left Shark Steals The Show</a>. Katy Perry performing at halftime of Super Bowl XLIX. Photo by Huntley Paton. Attribution-ShareAlike 2.0 Generic (CC BY-SA 2.0).</em></p>\n",
    "<p>The dataset we'll use was <a href=\"https://en.wikipedia.org/wiki/Web_scraping\">scraped</a> and polished from Wikipedia. It is made up of three CSV files, one with <a href=\"https://en.wikipedia.org/wiki/List_of_Super_Bowl_champions\">game data</a>, one with <a href=\"https://en.wikipedia.org/wiki/Super_Bowl_television_ratings\">TV data</a>, and one with <a href=\"https://en.wikipedia.org/wiki/List_of_Super_Bowl_halftime_shows\">halftime musician data</a> for all 52 Super Bowls through 2018. Let's take a look, using <code>display()</code> instead of <code>print()</code> since its output is much prettier in Jupyter Notebooks.</p>"
   ]
  },
  {
   "cell_type": "code",
   "execution_count": 3,
   "metadata": {
    "dc": {
     "key": "3"
    },
    "tags": [
     "sample_code"
    ]
   },
   "outputs": [
    {
     "data": {
      "text/html": [
       "<div>\n",
       "<style scoped>\n",
       "    .dataframe tbody tr th:only-of-type {\n",
       "        vertical-align: middle;\n",
       "    }\n",
       "\n",
       "    .dataframe tbody tr th {\n",
       "        vertical-align: top;\n",
       "    }\n",
       "\n",
       "    .dataframe thead th {\n",
       "        text-align: right;\n",
       "    }\n",
       "</style>\n",
       "<table border=\"1\" class=\"dataframe\">\n",
       "  <thead>\n",
       "    <tr style=\"text-align: right;\">\n",
       "      <th></th>\n",
       "      <th>super_bowl</th>\n",
       "      <th>venue</th>\n",
       "      <th>city</th>\n",
       "      <th>state</th>\n",
       "      <th>attendance</th>\n",
       "      <th>team_winner</th>\n",
       "      <th>winning_pts</th>\n",
       "      <th>qb_winner_1</th>\n",
       "      <th>qb_winner_2</th>\n",
       "      <th>coach_winner</th>\n",
       "      <th>team_loser</th>\n",
       "      <th>losing_pts</th>\n",
       "      <th>qb_loser_1</th>\n",
       "      <th>qb_loser_2</th>\n",
       "      <th>coach_loser</th>\n",
       "      <th>combined_pts</th>\n",
       "      <th>difference_pts</th>\n",
       "    </tr>\n",
       "    <tr>\n",
       "      <th>date</th>\n",
       "      <th></th>\n",
       "      <th></th>\n",
       "      <th></th>\n",
       "      <th></th>\n",
       "      <th></th>\n",
       "      <th></th>\n",
       "      <th></th>\n",
       "      <th></th>\n",
       "      <th></th>\n",
       "      <th></th>\n",
       "      <th></th>\n",
       "      <th></th>\n",
       "      <th></th>\n",
       "      <th></th>\n",
       "      <th></th>\n",
       "      <th></th>\n",
       "      <th></th>\n",
       "    </tr>\n",
       "  </thead>\n",
       "  <tbody>\n",
       "    <tr>\n",
       "      <th>2018-02-04</th>\n",
       "      <td>52</td>\n",
       "      <td>U.S. Bank Stadium</td>\n",
       "      <td>Minneapolis</td>\n",
       "      <td>Minnesota</td>\n",
       "      <td>67612</td>\n",
       "      <td>Philadelphia Eagles</td>\n",
       "      <td>41</td>\n",
       "      <td>Nick Foles</td>\n",
       "      <td>NaN</td>\n",
       "      <td>Doug Pederson</td>\n",
       "      <td>New England Patriots</td>\n",
       "      <td>33</td>\n",
       "      <td>Tom Brady</td>\n",
       "      <td>NaN</td>\n",
       "      <td>Bill Belichick</td>\n",
       "      <td>74</td>\n",
       "      <td>8</td>\n",
       "    </tr>\n",
       "    <tr>\n",
       "      <th>2017-02-05</th>\n",
       "      <td>51</td>\n",
       "      <td>NRG Stadium</td>\n",
       "      <td>Houston</td>\n",
       "      <td>Texas</td>\n",
       "      <td>70807</td>\n",
       "      <td>New England Patriots</td>\n",
       "      <td>34</td>\n",
       "      <td>Tom Brady</td>\n",
       "      <td>NaN</td>\n",
       "      <td>Bill Belichick</td>\n",
       "      <td>Atlanta Falcons</td>\n",
       "      <td>28</td>\n",
       "      <td>Matt Ryan</td>\n",
       "      <td>NaN</td>\n",
       "      <td>Dan Quinn</td>\n",
       "      <td>62</td>\n",
       "      <td>6</td>\n",
       "    </tr>\n",
       "    <tr>\n",
       "      <th>2016-02-07</th>\n",
       "      <td>50</td>\n",
       "      <td>Levi's Stadium</td>\n",
       "      <td>Santa Clara</td>\n",
       "      <td>California</td>\n",
       "      <td>71088</td>\n",
       "      <td>Denver Broncos</td>\n",
       "      <td>24</td>\n",
       "      <td>Peyton Manning</td>\n",
       "      <td>NaN</td>\n",
       "      <td>Gary Kubiak</td>\n",
       "      <td>Carolina Panthers</td>\n",
       "      <td>10</td>\n",
       "      <td>Cam Newton</td>\n",
       "      <td>NaN</td>\n",
       "      <td>Ron Rivera</td>\n",
       "      <td>34</td>\n",
       "      <td>14</td>\n",
       "    </tr>\n",
       "    <tr>\n",
       "      <th>2015-02-01</th>\n",
       "      <td>49</td>\n",
       "      <td>University of Phoenix Stadium</td>\n",
       "      <td>Glendale</td>\n",
       "      <td>Arizona</td>\n",
       "      <td>70288</td>\n",
       "      <td>New England Patriots</td>\n",
       "      <td>28</td>\n",
       "      <td>Tom Brady</td>\n",
       "      <td>NaN</td>\n",
       "      <td>Bill Belichick</td>\n",
       "      <td>Seattle Seahawks</td>\n",
       "      <td>24</td>\n",
       "      <td>Russell Wilson</td>\n",
       "      <td>NaN</td>\n",
       "      <td>Pete Carroll</td>\n",
       "      <td>52</td>\n",
       "      <td>4</td>\n",
       "    </tr>\n",
       "    <tr>\n",
       "      <th>2014-02-02</th>\n",
       "      <td>48</td>\n",
       "      <td>MetLife Stadium</td>\n",
       "      <td>East Rutherford</td>\n",
       "      <td>New Jersey</td>\n",
       "      <td>82529</td>\n",
       "      <td>Seattle Seahawks</td>\n",
       "      <td>43</td>\n",
       "      <td>Russell Wilson</td>\n",
       "      <td>NaN</td>\n",
       "      <td>Pete Carroll</td>\n",
       "      <td>Denver Broncos</td>\n",
       "      <td>8</td>\n",
       "      <td>Peyton Manning</td>\n",
       "      <td>NaN</td>\n",
       "      <td>John Fox</td>\n",
       "      <td>51</td>\n",
       "      <td>35</td>\n",
       "    </tr>\n",
       "  </tbody>\n",
       "</table>\n",
       "</div>"
      ],
      "text/plain": [
       "            super_bowl                          venue             city  \\\n",
       "date                                                                     \n",
       "2018-02-04          52              U.S. Bank Stadium      Minneapolis   \n",
       "2017-02-05          51                    NRG Stadium          Houston   \n",
       "2016-02-07          50                 Levi's Stadium      Santa Clara   \n",
       "2015-02-01          49  University of Phoenix Stadium         Glendale   \n",
       "2014-02-02          48                MetLife Stadium  East Rutherford   \n",
       "\n",
       "                 state  attendance           team_winner  winning_pts  \\\n",
       "date                                                                    \n",
       "2018-02-04   Minnesota       67612   Philadelphia Eagles           41   \n",
       "2017-02-05       Texas       70807  New England Patriots           34   \n",
       "2016-02-07  California       71088        Denver Broncos           24   \n",
       "2015-02-01     Arizona       70288  New England Patriots           28   \n",
       "2014-02-02  New Jersey       82529      Seattle Seahawks           43   \n",
       "\n",
       "               qb_winner_1 qb_winner_2    coach_winner            team_loser  \\\n",
       "date                                                                           \n",
       "2018-02-04      Nick Foles         NaN   Doug Pederson  New England Patriots   \n",
       "2017-02-05       Tom Brady         NaN  Bill Belichick       Atlanta Falcons   \n",
       "2016-02-07  Peyton Manning         NaN     Gary Kubiak     Carolina Panthers   \n",
       "2015-02-01       Tom Brady         NaN  Bill Belichick      Seattle Seahawks   \n",
       "2014-02-02  Russell Wilson         NaN    Pete Carroll        Denver Broncos   \n",
       "\n",
       "            losing_pts      qb_loser_1 qb_loser_2     coach_loser  \\\n",
       "date                                                                \n",
       "2018-02-04          33       Tom Brady        NaN  Bill Belichick   \n",
       "2017-02-05          28       Matt Ryan        NaN       Dan Quinn   \n",
       "2016-02-07          10      Cam Newton        NaN      Ron Rivera   \n",
       "2015-02-01          24  Russell Wilson        NaN    Pete Carroll   \n",
       "2014-02-02           8  Peyton Manning        NaN        John Fox   \n",
       "\n",
       "            combined_pts  difference_pts  \n",
       "date                                      \n",
       "2018-02-04            74               8  \n",
       "2017-02-05            62               6  \n",
       "2016-02-07            34              14  \n",
       "2015-02-01            52               4  \n",
       "2014-02-02            51              35  "
      ]
     },
     "metadata": {},
     "output_type": "display_data"
    },
    {
     "name": "stdout",
     "output_type": "stream",
     "text": [
      "            super_bowl                          venue             city  \\\n",
      "date                                                                     \n",
      "2018-02-04          52              U.S. Bank Stadium      Minneapolis   \n",
      "2017-02-05          51                    NRG Stadium          Houston   \n",
      "2016-02-07          50                 Levi's Stadium      Santa Clara   \n",
      "2015-02-01          49  University of Phoenix Stadium         Glendale   \n",
      "2014-02-02          48                MetLife Stadium  East Rutherford   \n",
      "2013-02-03          47        Mercedes-Benz Superdome      New Orleans   \n",
      "2012-02-05          46              Lucas Oil Stadium     Indianapolis   \n",
      "2011-02-06          45                Cowboys Stadium        Arlington   \n",
      "2010-02-07          44               Sun Life Stadium    Miami Gardens   \n",
      "2009-02-01          43          Raymond James Stadium            Tampa   \n",
      "2008-02-03          42  University of Phoenix Stadium         Glendale   \n",
      "2007-02-04          41                Dolphin Stadium    Miami Gardens   \n",
      "2006-02-05          40                     Ford Field          Detroit   \n",
      "2005-02-06          39                 Alltel Stadium     Jacksonville   \n",
      "2004-02-01          38                Reliant Stadium          Houston   \n",
      "2003-01-26          37               Qualcomm Stadium        San Diego   \n",
      "2002-02-03          36            Louisiana Superdome      New Orleans   \n",
      "2001-01-28          35          Raymond James Stadium            Tampa   \n",
      "2000-01-30          34                   Georgia Dome          Atlanta   \n",
      "1999-01-31          33             Pro Player Stadium    Miami Gardens   \n",
      "1998-01-25          32               Qualcomm Stadium        San Diego   \n",
      "1997-01-26          31            Louisiana Superdome      New Orleans   \n",
      "1996-01-28          30              Sun Devil Stadium            Tempe   \n",
      "1995-01-29          29             Joe Robbie Stadium    Miami Gardens   \n",
      "1994-01-30          28                   Georgia Dome          Atlanta   \n",
      "1993-01-31          27                      Rose Bowl         Pasadena   \n",
      "1992-01-26          26                      Metrodome      Minneapolis   \n",
      "1991-01-27          25                  Tampa Stadium            Tampa   \n",
      "1990-01-28          24            Louisiana Superdome      New Orleans   \n",
      "1989-01-22          23             Joe Robbie Stadium    Miami Gardens   \n",
      "1988-01-31          22            Jack Murphy Stadium        San Diego   \n",
      "1987-01-25          21                      Rose Bowl         Pasadena   \n",
      "1986-01-26          20            Louisiana Superdome      New Orleans   \n",
      "1985-01-20          19               Stanford Stadium        Palo Alto   \n",
      "1984-01-22          18                  Tampa Stadium            Tampa   \n",
      "1983-01-30          17                      Rose Bowl         Pasadena   \n",
      "1982-01-24          16             Pontiac Silverdome          Pontiac   \n",
      "1981-01-25          15            Louisiana Superdome      New Orleans   \n",
      "1980-01-20          14                      Rose Bowl         Pasadena   \n",
      "1979-01-21          13                    Orange Bowl            Miami   \n",
      "1978-01-15          12                      Superdome      New Orleans   \n",
      "1977-01-09          11                      Rose Bowl         Pasadena   \n",
      "1976-01-18          10                    Orange Bowl            Miami   \n",
      "1975-01-12           9                 Tulane Stadium      New Orleans   \n",
      "1974-01-13           8                   Rice Stadium          Houston   \n",
      "1973-01-14           7              Memorial Coliseum      Los Angeles   \n",
      "1972-01-16           6                 Tulane Stadium      New Orleans   \n",
      "1971-01-17           5                    Orange Bowl            Miami   \n",
      "1970-01-11           4                 Tulane Stadium      New Orleans   \n",
      "1969-01-12           3                    Orange Bowl            Miami   \n",
      "1968-01-14           2                    Orange Bowl            Miami   \n",
      "1967-01-15           1              Memorial Coliseum      Los Angeles   \n",
      "\n",
      "                 state  attendance           team_winner  winning_pts  \\\n",
      "date                                                                    \n",
      "2018-02-04   Minnesota       67612   Philadelphia Eagles           41   \n",
      "2017-02-05       Texas       70807  New England Patriots           34   \n",
      "2016-02-07  California       71088        Denver Broncos           24   \n",
      "2015-02-01     Arizona       70288  New England Patriots           28   \n",
      "2014-02-02  New Jersey       82529      Seattle Seahawks           43   \n",
      "2013-02-03   Louisiana       71024      Baltimore Ravens           34   \n",
      "2012-02-05     Indiana       68658       New York Giants           21   \n",
      "2011-02-06       Texas      103219     Green Bay Packers           31   \n",
      "2010-02-07     Florida       74059    New Orleans Saints           31   \n",
      "2009-02-01     Florida       70774   Pittsburgh Steelers           27   \n",
      "2008-02-03     Arizona       71101       New York Giants           17   \n",
      "2007-02-04     Florida       74512    Indianapolis Colts           29   \n",
      "2006-02-05    Michigan       68206   Pittsburgh Steelers           21   \n",
      "2005-02-06     Florida       78125  New England Patriots           24   \n",
      "2004-02-01       Texas       71525  New England Patriots           32   \n",
      "2003-01-26  California       67603  Tampa Bay Buccaneers           48   \n",
      "2002-02-03   Louisiana       72922  New England Patriots           20   \n",
      "2001-01-28     Florida       71921      Baltimore Ravens           34   \n",
      "2000-01-30     Georgia       72625        St. Louis Rams           23   \n",
      "1999-01-31     Florida       74803        Denver Broncos           34   \n",
      "1998-01-25  California       68912        Denver Broncos           31   \n",
      "1997-01-26   Louisiana       72301     Green Bay Packers           35   \n",
      "1996-01-28     Arizona       76347        Dallas Cowboys           27   \n",
      "1995-01-29     Florida       74107   San Francisco 49ers           49   \n",
      "1994-01-30     Georgia       72817        Dallas Cowboys           30   \n",
      "1993-01-31  California       98374        Dallas Cowboys           52   \n",
      "1992-01-26   Minnesota       63130   Washington Redskins           37   \n",
      "1991-01-27     Florida       73813       New York Giants           20   \n",
      "1990-01-28   Louisiana       72919   San Francisco 49ers           55   \n",
      "1989-01-22     Florida       75129   San Francisco 49ers           20   \n",
      "1988-01-31  California       73302   Washington Redskins           42   \n",
      "1987-01-25  California      101063       New York Giants           39   \n",
      "1986-01-26   Louisiana       73818         Chicago Bears           46   \n",
      "1985-01-20  California       84059   San Francisco 49ers           38   \n",
      "1984-01-22     Florida       72920   Los Angeles Raiders           38   \n",
      "1983-01-30  California      103667   Washington Redskins           27   \n",
      "1982-01-24    Michigan       81270   San Francisco 49ers           26   \n",
      "1981-01-25   Louisiana       76135       Oakland Raiders           27   \n",
      "1980-01-20  California      103985   Pittsburgh Steelers           31   \n",
      "1979-01-21     Florida       79484   Pittsburgh Steelers           35   \n",
      "1978-01-15   Louisiana       76400        Dallas Cowboys           27   \n",
      "1977-01-09  California      103438       Oakland Raiders           32   \n",
      "1976-01-18     Florida       80187   Pittsburgh Steelers           21   \n",
      "1975-01-12   Louisiana       80997   Pittsburgh Steelers           16   \n",
      "1974-01-13       Texas       71882        Miami Dolphins           24   \n",
      "1973-01-14  California       90182        Miami Dolphins           14   \n",
      "1972-01-16   Louisiana       81023        Dallas Cowboys           24   \n",
      "1971-01-17     Florida       79204       Baltimore Colts           16   \n",
      "1970-01-11   Louisiana       80562    Kansas City Chiefs           23   \n",
      "1969-01-12     Florida       75389         New York Jets           16   \n",
      "1968-01-14     Florida       75546     Green Bay Packers           33   \n",
      "1967-01-15  California       61946     Green Bay Packers           35   \n",
      "\n",
      "                   qb_winner_1      qb_winner_2    coach_winner  \\\n",
      "date                                                              \n",
      "2018-02-04          Nick Foles              NaN   Doug Pederson   \n",
      "2017-02-05           Tom Brady              NaN  Bill Belichick   \n",
      "2016-02-07      Peyton Manning              NaN     Gary Kubiak   \n",
      "2015-02-01           Tom Brady              NaN  Bill Belichick   \n",
      "2014-02-02      Russell Wilson              NaN    Pete Carroll   \n",
      "2013-02-03          Joe Flacco              NaN   John Harbaugh   \n",
      "2012-02-05         Eli Manning              NaN    Tom Coughlin   \n",
      "2011-02-06       Aaron Rodgers              NaN   Mike McCarthy   \n",
      "2010-02-07          Drew Brees              NaN     Sean Payton   \n",
      "2009-02-01  Ben Roethlisberger              NaN     Mike Tomlin   \n",
      "2008-02-03         Eli Manning              NaN    Tom Coughlin   \n",
      "2007-02-04      Peyton Manning              NaN      Tony Dungy   \n",
      "2006-02-05  Ben Roethlisberger              NaN     Bill Cowher   \n",
      "2005-02-06           Tom Brady              NaN  Bill Belichick   \n",
      "2004-02-01           Tom Brady              NaN  Bill Belichick   \n",
      "2003-01-26        Brad Johnson              NaN      Jon Gruden   \n",
      "2002-02-03           Tom Brady              NaN  Bill Belichick   \n",
      "2001-01-28        Trent Dilfer              NaN   Brian Billick   \n",
      "2000-01-30         Kurt Warner              NaN    Dick Vermeil   \n",
      "1999-01-31          John Elway              NaN   Mike Shanahan   \n",
      "1998-01-25          John Elway              NaN   Mike Shanahan   \n",
      "1997-01-26         Brett Favre              NaN   Mike Holmgren   \n",
      "1996-01-28         Troy Aikman              NaN   Barry Switzer   \n",
      "1995-01-29         Steve Young              NaN  George Seifert   \n",
      "1994-01-30         Troy Aikman              NaN   Jimmy Johnson   \n",
      "1993-01-31         Troy Aikman              NaN   Jimmy Johnson   \n",
      "1992-01-26         Mark Rypien              NaN       Joe Gibbs   \n",
      "1991-01-27      Jeff Hostetler              NaN   Bill Parcells   \n",
      "1990-01-28         Joe Montana              NaN  George Seifert   \n",
      "1989-01-22         Joe Montana              NaN      Bill Walsh   \n",
      "1988-01-31       Doug Williams              NaN       Joe Gibbs   \n",
      "1987-01-25          Phil Simms              NaN   Bill Parcells   \n",
      "1986-01-26         Jim McMahon              NaN      Mike Ditka   \n",
      "1985-01-20         Joe Montano              NaN      Bill Walsh   \n",
      "1984-01-22        Jim Plunkett              NaN      Tom Flores   \n",
      "1983-01-30       Joe Theismann              NaN       Joe Gibbs   \n",
      "1982-01-24         Joe Montana              NaN      Bill Walsh   \n",
      "1981-01-25        Jim Plunkett              NaN      Tom Flores   \n",
      "1980-01-20      Terry Bradshaw              NaN      Chuck Noll   \n",
      "1979-01-21      Terry Bradshaw              NaN      Chuck Noll   \n",
      "1978-01-15      Roger Staubach              NaN      Tom Landry   \n",
      "1977-01-09       Kenny Stabler              NaN     John Madden   \n",
      "1976-01-18      Terry Bradshaw              NaN      Chuck Noll   \n",
      "1975-01-12      Terry Bradshaw              NaN      Chuck Noll   \n",
      "1974-01-13          Bob Griese              NaN       Don Shula   \n",
      "1973-01-14          Bob Griese              NaN       Don Shula   \n",
      "1972-01-16      Roger Staubach              NaN      Tom Landry   \n",
      "1971-01-17        Earl Morrall    Johnny Unitas  Don McCafferty   \n",
      "1970-01-11          Len Dawson  Mike Livingston      Hank Stram   \n",
      "1969-01-12          Joe Namath              NaN     Weeb Ewbank   \n",
      "1968-01-14          Bart Starr              NaN  Vince Lombardi   \n",
      "1967-01-15          Bart Starr              NaN  Vince Lombardi   \n",
      "\n",
      "                      team_loser  losing_pts          qb_loser_1  \\\n",
      "date                                                               \n",
      "2018-02-04  New England Patriots          33           Tom Brady   \n",
      "2017-02-05       Atlanta Falcons          28           Matt Ryan   \n",
      "2016-02-07     Carolina Panthers          10          Cam Newton   \n",
      "2015-02-01      Seattle Seahawks          24      Russell Wilson   \n",
      "2014-02-02        Denver Broncos           8      Peyton Manning   \n",
      "2013-02-03   San Francisco 49ers          31    Colin Kaepernick   \n",
      "2012-02-05  New England Patriots          17           Tom Brady   \n",
      "2011-02-06   Pittsburgh Steelers          25  Ben Roethlisberger   \n",
      "2010-02-07    Indianapolis Colts          17      Peyton Manning   \n",
      "2009-02-01     Arizona Cardinals          23         Kurt Warner   \n",
      "2008-02-03  New England Patriots          14           Tom Brady   \n",
      "2007-02-04         Chicago Bears          17        Rex Grossman   \n",
      "2006-02-05      Seattle Seahawks          10     Matt Hasselbeck   \n",
      "2005-02-06   Philadelphia Eagles          21      Donovan McNabb   \n",
      "2004-02-01     Carolina Panthers          29       Jake Delhomme   \n",
      "2003-01-26       Oakland Raiders          21         Rich Gannon   \n",
      "2002-02-03        St. Louis Rams          17         Kurt Warner   \n",
      "2001-01-28       New York Giants           7       Kerry Collins   \n",
      "2000-01-30      Tennessee Titans          16        Steve McNair   \n",
      "1999-01-31       Atlanta Falcons          19      Chris Chandler   \n",
      "1998-01-25     Green Bay Packers          24         Brett Favre   \n",
      "1997-01-26  New England Patriots          21        Drew Bledsoe   \n",
      "1996-01-28   Pittsburgh Steelers          17      Neil O'Donnell   \n",
      "1995-01-29    San Diego Chargers          26      Stan Humphreys   \n",
      "1994-01-30         Buffalo Bills          13           Jim Kelly   \n",
      "1993-01-31         Buffalo Bills          17           Jim Kelly   \n",
      "1992-01-26         Buffalo Bills          24           Jim Kelly   \n",
      "1991-01-27         Buffalo Bills          19           Jim Kelly   \n",
      "1990-01-28        Denver Broncos          10          John Elway   \n",
      "1989-01-22    Cincinnati Bengals          16      Boomer Esiason   \n",
      "1988-01-31        Denver Broncos          10          John Elway   \n",
      "1987-01-25        Denver Broncos          20          John Elway   \n",
      "1986-01-26  New England Patriots          10          Tony Eason   \n",
      "1985-01-20        Miami Dolphins          16          Dan Marino   \n",
      "1984-01-22   Washington Redskins           9       Joe Theismann   \n",
      "1983-01-30        Miami Dolphins          17       David Woodley   \n",
      "1982-01-24    Cincinnati Bengals          21        Ken Anderson   \n",
      "1981-01-25   Philadelphia Eagles          10        Ron Jaworski   \n",
      "1980-01-20      Los Angeles Rams          19     Vince Ferragamo   \n",
      "1979-01-21        Dallas Cowboys          31      Roger Staubach   \n",
      "1978-01-15        Denver Broncos          10        Craig Morton   \n",
      "1977-01-09     Minnesota Vikings          14      Fran Tarkenton   \n",
      "1976-01-18        Dallas Cowboys          17      Roger Staubach   \n",
      "1975-01-12     Minnesota Vikings           6      Fran Tarkenton   \n",
      "1974-01-13     Minnesota Vikings           7      Fran Tarkenton   \n",
      "1973-01-14   Washington Redskins           7         Bill Kilmer   \n",
      "1972-01-16        Miami Dolphins           3          Bob Griese   \n",
      "1971-01-17        Dallas Cowboys          13        Craig Morton   \n",
      "1970-01-11     Minnesota Vikings           7            Joe Kapp   \n",
      "1969-01-12       Baltimore Colts           7        Earl Morrall   \n",
      "1968-01-14       Oakland Raiders          14     Daryle Lamonica   \n",
      "1967-01-15    Kansas City Chiefs          10          Len Dawson   \n",
      "\n",
      "               qb_loser_2     coach_loser  combined_pts  difference_pts  \n",
      "date                                                                     \n",
      "2018-02-04            NaN  Bill Belichick            74               8  \n",
      "2017-02-05            NaN       Dan Quinn            62               6  \n",
      "2016-02-07            NaN      Ron Rivera            34              14  \n",
      "2015-02-01            NaN    Pete Carroll            52               4  \n",
      "2014-02-02            NaN        John Fox            51              35  \n",
      "2013-02-03            NaN    Jim Harbaugh            65               3  \n",
      "2012-02-05            NaN  Bill Belichick            38               4  \n",
      "2011-02-06            NaN     Mike Tomlin            56               6  \n",
      "2010-02-07            NaN    Jim Caldwell            48              14  \n",
      "2009-02-01            NaN  Ken Whisenhunt            50               4  \n",
      "2008-02-03            NaN  Bill Belichick            31               3  \n",
      "2007-02-04            NaN     Lovie Smith            46              12  \n",
      "2006-02-05            NaN   Mike Holmgren            31              11  \n",
      "2005-02-06            NaN       Andy Reid            45               3  \n",
      "2004-02-01            NaN        John Fox            61               3  \n",
      "2003-01-26            NaN   Bill Callahan            69              27  \n",
      "2002-02-03            NaN      Mike Martz            37               3  \n",
      "2001-01-28            NaN      Jim Fassel            41              27  \n",
      "2000-01-30            NaN     Jeff Fisher            39               7  \n",
      "1999-01-31            NaN      Dan Reeves            53              15  \n",
      "1998-01-25            NaN   Mike Holmgren            55               7  \n",
      "1997-01-26            NaN   Bill Parcells            56              14  \n",
      "1996-01-28            NaN     Bill Cowher            44              10  \n",
      "1995-01-29            NaN      Bobby Ross            75              23  \n",
      "1994-01-30            NaN       Marv Levy            43              17  \n",
      "1993-01-31    Frank Reich       Marv Levy            69              35  \n",
      "1992-01-26            NaN       Marv Levy            61              13  \n",
      "1991-01-27            NaN       Marv Levy            39               1  \n",
      "1990-01-28            NaN      Dan Reeves            65              45  \n",
      "1989-01-22            NaN       Sam Wyche            36               4  \n",
      "1988-01-31            NaN      Dan Reeves            52              32  \n",
      "1987-01-25            NaN      Dan Reeves            59              19  \n",
      "1986-01-26   Steve Grogan   Raymond Berry            56              36  \n",
      "1985-01-20            NaN       Don Shula            54              22  \n",
      "1984-01-22            NaN       Joe Gibbs            47              29  \n",
      "1983-01-30            NaN       Don Shula            44              10  \n",
      "1982-01-24            NaN   Forrest Gregg            47               5  \n",
      "1981-01-25            NaN    Dick Vermeil            37              17  \n",
      "1980-01-20            NaN    Ray Malavasi            50              12  \n",
      "1979-01-21            NaN      Tom Landry            66               4  \n",
      "1978-01-15            NaN      Red Miller            37              17  \n",
      "1977-01-09            NaN       Bud Grant            46              18  \n",
      "1976-01-18            NaN      Tom Landry            38               4  \n",
      "1975-01-12            NaN       Bud Grant            22              10  \n",
      "1974-01-13            NaN       Bud Grant            31              17  \n",
      "1973-01-14            NaN    George Allen            21               7  \n",
      "1972-01-16            NaN       Don Shula            27              21  \n",
      "1971-01-17            NaN      Tom Landry            29               3  \n",
      "1970-01-11            NaN       Bud Grant            30              16  \n",
      "1969-01-12  Johnny Unitas       Don Shula            23               9  \n",
      "1968-01-14            NaN      John Rauch            47              19  \n",
      "1967-01-15            NaN      Hank Stram            45              25  \n"
     ]
    },
    {
     "data": {
      "text/html": [
       "<div>\n",
       "<style scoped>\n",
       "    .dataframe tbody tr th:only-of-type {\n",
       "        vertical-align: middle;\n",
       "    }\n",
       "\n",
       "    .dataframe tbody tr th {\n",
       "        vertical-align: top;\n",
       "    }\n",
       "\n",
       "    .dataframe thead th {\n",
       "        text-align: right;\n",
       "    }\n",
       "</style>\n",
       "<table border=\"1\" class=\"dataframe\">\n",
       "  <thead>\n",
       "    <tr style=\"text-align: right;\">\n",
       "      <th></th>\n",
       "      <th>network</th>\n",
       "      <th>avg_us_viewers</th>\n",
       "      <th>total_us_viewers</th>\n",
       "      <th>rating_household</th>\n",
       "      <th>share_household</th>\n",
       "      <th>rating_18_49</th>\n",
       "      <th>share_18_49</th>\n",
       "      <th>ad_cost</th>\n",
       "    </tr>\n",
       "    <tr>\n",
       "      <th>super_bowl</th>\n",
       "      <th></th>\n",
       "      <th></th>\n",
       "      <th></th>\n",
       "      <th></th>\n",
       "      <th></th>\n",
       "      <th></th>\n",
       "      <th></th>\n",
       "      <th></th>\n",
       "    </tr>\n",
       "  </thead>\n",
       "  <tbody>\n",
       "    <tr>\n",
       "      <th>52</th>\n",
       "      <td>NBC</td>\n",
       "      <td>103390000</td>\n",
       "      <td>NaN</td>\n",
       "      <td>43.1</td>\n",
       "      <td>68</td>\n",
       "      <td>33.4</td>\n",
       "      <td>78.0</td>\n",
       "      <td>5000000</td>\n",
       "    </tr>\n",
       "    <tr>\n",
       "      <th>51</th>\n",
       "      <td>Fox</td>\n",
       "      <td>111319000</td>\n",
       "      <td>172000000.0</td>\n",
       "      <td>45.3</td>\n",
       "      <td>73</td>\n",
       "      <td>37.1</td>\n",
       "      <td>79.0</td>\n",
       "      <td>5000000</td>\n",
       "    </tr>\n",
       "    <tr>\n",
       "      <th>50</th>\n",
       "      <td>CBS</td>\n",
       "      <td>111864000</td>\n",
       "      <td>167000000.0</td>\n",
       "      <td>46.6</td>\n",
       "      <td>72</td>\n",
       "      <td>37.7</td>\n",
       "      <td>79.0</td>\n",
       "      <td>5000000</td>\n",
       "    </tr>\n",
       "    <tr>\n",
       "      <th>49</th>\n",
       "      <td>NBC</td>\n",
       "      <td>114442000</td>\n",
       "      <td>168000000.0</td>\n",
       "      <td>47.5</td>\n",
       "      <td>71</td>\n",
       "      <td>39.1</td>\n",
       "      <td>79.0</td>\n",
       "      <td>4500000</td>\n",
       "    </tr>\n",
       "    <tr>\n",
       "      <th>48</th>\n",
       "      <td>Fox</td>\n",
       "      <td>112191000</td>\n",
       "      <td>167000000.0</td>\n",
       "      <td>46.7</td>\n",
       "      <td>69</td>\n",
       "      <td>39.3</td>\n",
       "      <td>77.0</td>\n",
       "      <td>4000000</td>\n",
       "    </tr>\n",
       "  </tbody>\n",
       "</table>\n",
       "</div>"
      ],
      "text/plain": [
       "           network  avg_us_viewers  total_us_viewers  rating_household  \\\n",
       "super_bowl                                                               \n",
       "52             NBC       103390000               NaN              43.1   \n",
       "51             Fox       111319000       172000000.0              45.3   \n",
       "50             CBS       111864000       167000000.0              46.6   \n",
       "49             NBC       114442000       168000000.0              47.5   \n",
       "48             Fox       112191000       167000000.0              46.7   \n",
       "\n",
       "            share_household  rating_18_49  share_18_49  ad_cost  \n",
       "super_bowl                                                       \n",
       "52                       68          33.4         78.0  5000000  \n",
       "51                       73          37.1         79.0  5000000  \n",
       "50                       72          37.7         79.0  5000000  \n",
       "49                       71          39.1         79.0  4500000  \n",
       "48                       69          39.3         77.0  4000000  "
      ]
     },
     "metadata": {},
     "output_type": "display_data"
    },
    {
     "data": {
      "text/html": [
       "<div>\n",
       "<style scoped>\n",
       "    .dataframe tbody tr th:only-of-type {\n",
       "        vertical-align: middle;\n",
       "    }\n",
       "\n",
       "    .dataframe tbody tr th {\n",
       "        vertical-align: top;\n",
       "    }\n",
       "\n",
       "    .dataframe thead th {\n",
       "        text-align: right;\n",
       "    }\n",
       "</style>\n",
       "<table border=\"1\" class=\"dataframe\">\n",
       "  <thead>\n",
       "    <tr style=\"text-align: right;\">\n",
       "      <th></th>\n",
       "      <th>musician</th>\n",
       "      <th>num_songs</th>\n",
       "    </tr>\n",
       "    <tr>\n",
       "      <th>super_bowl</th>\n",
       "      <th></th>\n",
       "      <th></th>\n",
       "    </tr>\n",
       "  </thead>\n",
       "  <tbody>\n",
       "    <tr>\n",
       "      <th>52</th>\n",
       "      <td>Justin Timberlake</td>\n",
       "      <td>11.0</td>\n",
       "    </tr>\n",
       "    <tr>\n",
       "      <th>52</th>\n",
       "      <td>University of Minnesota Marching Band</td>\n",
       "      <td>1.0</td>\n",
       "    </tr>\n",
       "    <tr>\n",
       "      <th>51</th>\n",
       "      <td>Lady Gaga</td>\n",
       "      <td>7.0</td>\n",
       "    </tr>\n",
       "    <tr>\n",
       "      <th>50</th>\n",
       "      <td>Coldplay</td>\n",
       "      <td>6.0</td>\n",
       "    </tr>\n",
       "    <tr>\n",
       "      <th>50</th>\n",
       "      <td>Beyoncé</td>\n",
       "      <td>3.0</td>\n",
       "    </tr>\n",
       "  </tbody>\n",
       "</table>\n",
       "</div>"
      ],
      "text/plain": [
       "                                         musician  num_songs\n",
       "super_bowl                                                  \n",
       "52                              Justin Timberlake       11.0\n",
       "52          University of Minnesota Marching Band        1.0\n",
       "51                                      Lady Gaga        7.0\n",
       "50                                       Coldplay        6.0\n",
       "50                                        Beyoncé        3.0"
      ]
     },
     "metadata": {},
     "output_type": "display_data"
    }
   ],
   "source": [
    "# Import pandas\n",
    "import pandas as pd\n",
    "\n",
    "# Load the CSV data into DataFrames\n",
    "super_bowls = pd.read_csv(r'C:\\Users\\Garvit\\Desktop\\Machine Learning\\Datacamp\\Course_3_Analyzing_Tv_Data\\super_bowls.csv', index_col=0)\n",
    "tv = pd.read_csv(r'C:\\Users\\Garvit\\Desktop\\Machine Learning\\Datacamp\\Course_3_Analyzing_Tv_Data\\tv.csv', index_col=0)\n",
    "halftime_musicians = pd.read_csv(r'C:\\Users\\Garvit\\Desktop\\Machine Learning\\Datacamp\\Course_3_Analyzing_Tv_Data\\halftime_musicians.csv', index_col=0)\n",
    "\n",
    "# Display the first five rows of each DataFrame\n",
    "display(super_bowls.head())\n",
    "display(tv.head())\n",
    "display(halftime_musicians.head())"
   ]
  },
  {
   "cell_type": "markdown",
   "metadata": {
    "dc": {
     "key": "10"
    },
    "deletable": false,
    "editable": false,
    "run_control": {
     "frozen": true
    },
    "tags": [
     "context"
    ]
   },
   "source": [
    "## 2. Taking note of dataset issues\n",
    "<p>For the Super Bowl game data, we can see the dataset appears whole except for missing values in the backup quarterback columns (<code>qb_winner_2</code> and <code>qb_loser_2</code>), which make sense given most starting QBs in the Super Bowl (<code>qb_winner_1</code> and <code>qb_loser_1</code>) play the entire game.</p>\n",
    "<p>From the visual inspection of TV and halftime musicians data, there is only one missing value displayed, but I've got a hunch there are more. The Super Bowl goes all the way back to 1967, and the more granular columns (e.g. the number of songs for halftime musicians) probably weren't tracked reliably over time. Wikipedia is great but not perfect.</p>\n",
    "<p>An inspection of the <code>.info()</code> output for <code>tv</code> and <code>halftime_musicians</code> shows us that there are multiple columns with null values.</p>"
   ]
  },
  {
   "cell_type": "code",
   "execution_count": 2,
   "metadata": {
    "dc": {
     "key": "10"
    },
    "tags": [
     "sample_code"
    ]
   },
   "outputs": [
    {
     "name": "stdout",
     "output_type": "stream",
     "text": [
      "<class 'pandas.core.frame.DataFrame'>\n",
      "Int64Index: 53 entries, 52 to 1\n",
      "Data columns (total 8 columns):\n",
      "network             53 non-null object\n",
      "avg_us_viewers      53 non-null int64\n",
      "total_us_viewers    15 non-null float64\n",
      "rating_household    53 non-null float64\n",
      "share_household     53 non-null int64\n",
      "rating_18_49        15 non-null float64\n",
      "share_18_49         6 non-null float64\n",
      "ad_cost             53 non-null int64\n",
      "dtypes: float64(4), int64(3), object(1)\n",
      "memory usage: 3.7+ KB\n",
      "\n",
      "\n",
      "<class 'pandas.core.frame.DataFrame'>\n",
      "Int64Index: 134 entries, 52 to 1\n",
      "Data columns (total 2 columns):\n",
      "musician     134 non-null object\n",
      "num_songs    88 non-null float64\n",
      "dtypes: float64(1), object(1)\n",
      "memory usage: 3.1+ KB\n"
     ]
    }
   ],
   "source": [
    "# Summary of the TV data to inspect\n",
    "tv.info()\n",
    "\n",
    "print('\\n')\n",
    "\n",
    "# Summary of the halftime musician data to inspect\n",
    "halftime_musicians.info()"
   ]
  },
  {
   "cell_type": "markdown",
   "metadata": {
    "dc": {
     "key": "17"
    },
    "deletable": false,
    "editable": false,
    "run_control": {
     "frozen": true
    },
    "tags": [
     "context"
    ]
   },
   "source": [
    "## 3. Combined points distribution\n",
    "<p>For the TV data, the following columns have missing values and a lot of them:</p>\n",
    "<ul>\n",
    "<li><code>total_us_viewers</code> (amount of U.S. viewers who watched at least some part of the broadcast)</li>\n",
    "<li><code>rating_18_49</code> (average % of U.S. adults 18-49 who live in a household with a TV that were watching for the entire broadcast)</li>\n",
    "<li><code>share_18_49</code> (average % of U.S. adults 18-49 who live in a household with a TV <em>in use</em> that were watching for the entire broadcast)</li>\n",
    "</ul>\n",
    "<p>For the halftime musician data, there are missing numbers of songs performed (<code>num_songs</code>) for about a third of the performances.</p>\n",
    "<p>There are a lot of potential reasons for these missing values. Was the data ever tracked? Was it lost in history? Is the research effort to make this data whole worth it? Maybe. Watching every Super Bowl halftime show to get song counts would be pretty fun. But we don't have the time to do that kind of stuff now! Let's take note of where the dataset isn't perfect and start uncovering some insights.</p>\n",
    "<p>Let's start by looking at combined points for each Super Bowl by visualizing the distribution. Let's also pinpoint the Super Bowls with the highest and lowest scores.</p>"
   ]
  },
  {
   "cell_type": "code",
   "execution_count": 0,
   "metadata": {
    "collapsed": true,
    "dc": {
     "key": "17"
    },
    "tags": [
     "sample_code"
    ]
   },
   "outputs": [],
   "source": [
    "# Import matplotlib and set plotting style\n",
    "from ... import ... as ...\n",
    "%matplotlib inline\n",
    "plt.style.use('seaborn')\n",
    "\n",
    "# Plot a histogram of combined points\n",
    "# ... YOUR CODE FOR TASK 3 ...\n",
    "plt.xlabel('Combined Points')\n",
    "plt.ylabel('Number of Super Bowls')\n",
    "plt.show()\n",
    "\n",
    "# Display the Super Bowls with the highest and lowest combined scores\n",
    "display(super_bowls[super_bowls['combined_pts'] > 70])\n",
    "display(super_bowls[... < ...])"
   ]
  },
  {
   "cell_type": "markdown",
   "metadata": {
    "dc": {
     "key": "24"
    },
    "deletable": false,
    "editable": false,
    "run_control": {
     "frozen": true
    },
    "tags": [
     "context"
    ]
   },
   "source": [
    "## 4. Point difference distribution\n",
    "<p>Most combined scores are around 40-50 points, with the extremes being roughly equal distance away in opposite directions. Going up to the highest combined scores at 74 and 75, we find two games featuring dominant quarterback performances. One even happened recently in 2018's Super Bowl LII where Tom Brady's Patriots lost to Nick Foles' underdog Eagles 41-33 for a combined score of 74.</p>\n",
    "<p>Going down to the lowest combined scores, we have Super Bowl III and VII, which featured tough defenses that dominated. We also have Super Bowl IX in New Orleans in 1975, whose 16-6 score can be attributed to inclement weather. The field was slick from overnight rain, and it was cold at 46 °F (8 °C), making it hard for the Steelers and Vikings to do much offensively. This was the second-coldest Super Bowl ever and the last to be played in inclement weather for over 30 years. The NFL realized people like points, I guess.</p>\n",
    "<p><em>UPDATE: In Super Bowl LIII in 2019, the Patriots and Rams broke the record for the lowest-scoring Super Bowl with a combined score of 16 points (13-3 for the Patriots).</em></p>\n",
    "<p>Let's take a look at point <em>difference</em> now.</p>"
   ]
  },
  {
   "cell_type": "code",
   "execution_count": 0,
   "metadata": {
    "collapsed": true,
    "dc": {
     "key": "24"
    },
    "tags": [
     "sample_code"
    ]
   },
   "outputs": [],
   "source": [
    "# Plot a histogram of point differences\n",
    "plt.hist(super_bowls.difference_pts)\n",
    "plt.xlabel('Point Difference')\n",
    "# ... YOUR CODE FOR TASK 4 ...\n",
    "# ... YOUR CODE FOR TASK 4 ...\n",
    "\n",
    "# Display the closest game(s) and biggest blowouts\n",
    "display(...)\n",
    "display(...)"
   ]
  },
  {
   "cell_type": "markdown",
   "metadata": {
    "dc": {
     "key": "31"
    },
    "deletable": false,
    "editable": false,
    "run_control": {
     "frozen": true
    },
    "tags": [
     "context"
    ]
   },
   "source": [
    "## 5. Do blowouts translate to lost viewers?\n",
    "<p>The vast majority of Super Bowls are close games. Makes sense. Both teams are likely to be deserving if they've made it this far. The closest game ever was when the Buffalo Bills lost to the New York Giants by 1 point in 1991, which was  best remembered for Scott Norwood's last-second missed field goal attempt that went <em><a href=\"https://www.youtube.com/watch?v=RPFZCGgjDSg\">wide right</a></em>, kicking off four Bills Super Bowl losses in a row. Poor Scott. The biggest point discrepancy ever was 45 points (!) where Hall of Famer Joe Montana's led the San Francisco 49ers to victory in 1990, one year before the closest game ever.</p>\n",
    "<p>I remember watching the Seahawks crush the Broncos by 35 points (43-8) in 2014, which was a boring experience in my opinion. The game was never really close. I'm pretty sure we changed the channel at the end of the third quarter. Let's combine our game data and TV to see if this is a universal phenomenon. Do large point differences translate to lost viewers? We can plot <a href=\"https://en.wikipedia.org/wiki/Nielsen_ratings\">household share</a> <em>(average percentage of U.S. households with a TV in use that were watching for the entire broadcast)</em> vs. point difference to find out.</p>"
   ]
  },
  {
   "cell_type": "code",
   "execution_count": 0,
   "metadata": {
    "collapsed": true,
    "dc": {
     "key": "31"
    },
    "tags": [
     "sample_code"
    ]
   },
   "outputs": [],
   "source": [
    "# Join game and TV data, filtering out SB I because it was split over two networks\n",
    "games_tv = pd.merge(tv[tv['super_bowl'] > 1], super_bowls, on='super_bowl')\n",
    "\n",
    "# Import seaborn\n",
    "# ... YOUR CODE FOR TASK 5 ...\n",
    "\n",
    "# Create a scatter plot with a linear regression model fit\n",
    "sns.regplot(x=..., y=..., data=games_tv)"
   ]
  },
  {
   "cell_type": "markdown",
   "metadata": {
    "dc": {
     "key": "38"
    },
    "deletable": false,
    "editable": false,
    "run_control": {
     "frozen": true
    },
    "tags": [
     "context"
    ]
   },
   "source": [
    "## 6. Viewership and the ad industry over time\n",
    "<p>The downward sloping regression line and the 95% confidence interval for that regression <em>suggest</em> that bailing on the game if it is a blowout is common. Though it matches our intuition, we must take it with a grain of salt because the linear relationship in the data is weak due to our small sample size of 52 games.</p>\n",
    "<p>Regardless of the score though, I bet most people stick it out for the halftime show, which is good news for the TV networks and advertisers. A 30-second spot costs a pretty <a href=\"https://www.businessinsider.com/super-bowl-commercials-cost-more-than-eagles-quarterback-earns-2018-1\">\\$5 million</a> now, but has it always been that way? And how have number of viewers and household ratings trended alongside ad cost? We can find out using line plots that share a \"Super Bowl\" x-axis.</p>"
   ]
  },
  {
   "cell_type": "code",
   "execution_count": 0,
   "metadata": {
    "collapsed": true,
    "dc": {
     "key": "38"
    },
    "tags": [
     "sample_code"
    ]
   },
   "outputs": [],
   "source": [
    "# Create a figure with 3x1 subplot and activate the top subplot\n",
    "plt.subplot(3, 1, 1)\n",
    "plt.plot(..., ..., color=...)\n",
    "plt.title('Average Number of US Viewers')\n",
    "\n",
    "# Activate the middle subplot\n",
    "plt.subplot(3, 1, 2)\n",
    "plt.plot(..., ..., ...)\n",
    "plt.title('Household Rating')\n",
    "\n",
    "# Activate the bottom subplot\n",
    "plt.subplot(3, 1, 3)\n",
    "# ... YOUR CODE FOR TASK 6 ...\n",
    "plt.title('Ad Cost')\n",
    "plt.xlabel('SUPER BOWL')\n",
    "\n",
    "# Improve the spacing between subplots\n",
    "plt.tight_layout()"
   ]
  },
  {
   "cell_type": "markdown",
   "metadata": {
    "dc": {
     "key": "45"
    },
    "deletable": false,
    "editable": false,
    "run_control": {
     "frozen": true
    },
    "tags": [
     "context"
    ]
   },
   "source": [
    "## 7. Halftime shows weren't always this great\n",
    "<p>We can see viewers increased before ad costs did. Maybe the networks weren't very data savvy and were slow to react? Makes sense since DataCamp didn't exist back then.</p>\n",
    "<p>Another hypothesis: maybe halftime shows weren't that good in the earlier years? The modern spectacle of the Super Bowl has a lot to do with the cultural prestige of big halftime acts. I went down a YouTube rabbit hole and it turns out the old ones weren't up to today's standards. Some offenders:</p>\n",
    "<ul>\n",
    "<li><a href=\"https://youtu.be/6wMXHxWO4ns?t=263\">Super Bowl XXVI</a> in 1992: A Frosty The Snowman rap performed by children.</li>\n",
    "<li><a href=\"https://www.youtube.com/watch?v=PKQTL1PYSag\">Super Bowl XXIII</a> in 1989: An Elvis impersonator that did magic tricks and didn't even sing one Elvis song.</li>\n",
    "<li><a href=\"https://youtu.be/oSXMNbK2e98?t=436\">Super Bowl XXI</a> in 1987: Tap dancing ponies. (Okay, that's pretty awesome actually.)</li>\n",
    "</ul>\n",
    "<p>It turns out Michael Jackson's Super Bowl XXVII performance, one of the most watched events in American TV history, was when the NFL realized the value of Super Bowl airtime and decided they needed to sign big name acts from then on out. The halftime shows before MJ indeed weren't that impressive, which we can see by filtering our <code>halftime_musician</code> data.</p>"
   ]
  },
  {
   "cell_type": "code",
   "execution_count": 0,
   "metadata": {
    "collapsed": true,
    "dc": {
     "key": "45"
    },
    "tags": [
     "sample_code"
    ]
   },
   "outputs": [],
   "source": [
    "# Display all halftime musicians for Super Bowls up to and including Super Bowl XXVII\n",
    "# ... YOUR CODE FOR TASK 7 ..."
   ]
  },
  {
   "cell_type": "markdown",
   "metadata": {
    "dc": {
     "key": "52"
    },
    "deletable": false,
    "editable": false,
    "run_control": {
     "frozen": true
    },
    "tags": [
     "context"
    ]
   },
   "source": [
    "## 8. Who has the most halftime show appearances?\n",
    "<p>Lots of marching bands. American jazz clarinetist Pete Fountain. Miss Texas 1973 playing a violin. Nothing against those performers, they're just simply not <a href=\"https://www.youtube.com/watch?v=suIg9kTGBVI\">Beyoncé</a>. To be fair, no one is.</p>\n",
    "<p>Let's see all of the musicians that have done more than one halftime show, including their performance counts.</p>"
   ]
  },
  {
   "cell_type": "code",
   "execution_count": 0,
   "metadata": {
    "collapsed": true,
    "dc": {
     "key": "52"
    },
    "tags": [
     "sample_code"
    ]
   },
   "outputs": [],
   "source": [
    "# Count halftime show appearances for each musician and sort them from most to least\n",
    "halftime_appearances = halftime_musicians.groupby('musician').count()['super_bowl'].reset_index()\n",
    "halftime_appearances = halftime_appearances.sort_values('super_bowl', ascending=False)\n",
    "\n",
    "# Display musicians with more than one halftime show appearance\n",
    "# ... YOUR CODE FOR TASK 8 ..."
   ]
  },
  {
   "cell_type": "markdown",
   "metadata": {
    "dc": {
     "key": "59"
    },
    "deletable": false,
    "editable": false,
    "run_control": {
     "frozen": true
    },
    "tags": [
     "context"
    ]
   },
   "source": [
    "## 9. Who performed the most songs in a halftime show?\n",
    "<p>The world famous <a href=\"https://www.youtube.com/watch?v=RL_3oqpHiDg\">Grambling State University Tiger Marching Band</a> takes the crown with six appearances. Beyoncé, Justin Timberlake, Nelly, and Bruno Mars are the only post-Y2K musicians with multiple appearances (two each).</p>\n",
    "<p>From our previous inspections, the <code>num_songs</code> column has lots of missing values:</p>\n",
    "<ul>\n",
    "<li>A lot of the marching bands don't have <code>num_songs</code> entries.</li>\n",
    "<li>For non-marching bands, missing data starts occurring at Super Bowl XX.</li>\n",
    "</ul>\n",
    "<p>Let's filter out marching bands by filtering out musicians with the word \"Marching\" in them and the word \"Spirit\" (a common naming convention for marching bands is \"Spirit of [something]\"). Then we'll filter for Super Bowls after Super Bowl XX to address the missing data issue, <em>then</em> let's see who has the most number of songs.</p>"
   ]
  },
  {
   "cell_type": "code",
   "execution_count": 0,
   "metadata": {
    "collapsed": true,
    "dc": {
     "key": "59"
    },
    "tags": [
     "sample_code"
    ]
   },
   "outputs": [],
   "source": [
    "# Filter out most marching bands\n",
    "no_bands = halftime_musicians[~halftime_musicians.musician.str.contains('Marching')]\n",
    "no_bands = no_bands[~no_bands.musician.str.contains('Spirit')]\n",
    "\n",
    "# Plot a histogram of number of songs per performance\n",
    "most_songs = int(max(no_bands['num_songs'].values))\n",
    "plt.hist(no_bands.num_songs.dropna(), ...=...)\n",
    "# ... YOUR CODE FOR TASK 9 ...\n",
    "plt.ylabel('Number of Musicians')\n",
    "plt.show()\n",
    "\n",
    "# Sort the non-band musicians by number of songs per appearance...\n",
    "no_bands = no_bands.sort_values('num_songs', ascending=False)\n",
    "# ...and display the top 15\n",
    "display(no_bands.head(15))"
   ]
  },
  {
   "cell_type": "markdown",
   "metadata": {
    "dc": {
     "key": "66"
    },
    "deletable": false,
    "editable": false,
    "run_control": {
     "frozen": true
    },
    "tags": [
     "context"
    ]
   },
   "source": [
    "## 10. Conclusion\n",
    "<p>So most non-band musicians do 1-3 songs per halftime show. It's important to note that the duration of the halftime show is fixed (roughly 12 minutes) so songs per performance is more a measure of how many hit songs you have. JT went off in 2018, wow. 11 songs! Diana Ross comes in second with 10 in her medley in 1996.</p>\n",
    "<p>In this notebook, we loaded, cleaned, then explored Super Bowl game, television, and halftime show data. We visualized the distributions of combined points, point differences, and halftime show performances using histograms. We used line plots to see how ad cost increases lagged behind viewership increases. And we discovered that blowouts do appear to lead to a drop in viewers.</p>\n",
    "<p>This year's Big Game will be here before you know it. Who do you think will win Super Bowl LIII?</p>\n",
    "<p><em>UPDATE: <a href=\"https://en.wikipedia.org/wiki/Super_Bowl_LIII\">Spoiler alert</a>.</em></p>"
   ]
  },
  {
   "cell_type": "code",
   "execution_count": 0,
   "metadata": {
    "collapsed": true,
    "dc": {
     "key": "66"
    },
    "tags": [
     "sample_code"
    ]
   },
   "outputs": [],
   "source": [
    "# 2018-2019 conference champions\n",
    "patriots = 'New England Patriots'\n",
    "rams = 'Los Angeles Rams'\n",
    "\n",
    "# Who will win Super Bowl LIII?\n",
    "super_bowl_LIII_winner = ...\n",
    "print('The winner of Super Bowl LIII will be the', super_bowl_LIII_winner)"
   ]
  }
 ],
 "metadata": {
  "kernelspec": {
   "display_name": "Python 3",
   "language": "python",
   "name": "python3"
  },
  "language_info": {
   "codemirror_mode": {
    "name": "ipython",
    "version": 3
   },
   "file_extension": ".py",
   "mimetype": "text/x-python",
   "name": "python",
   "nbconvert_exporter": "python",
   "pygments_lexer": "ipython3",
   "version": "3.7.1"
  }
 },
 "nbformat": 4,
 "nbformat_minor": 2
}
