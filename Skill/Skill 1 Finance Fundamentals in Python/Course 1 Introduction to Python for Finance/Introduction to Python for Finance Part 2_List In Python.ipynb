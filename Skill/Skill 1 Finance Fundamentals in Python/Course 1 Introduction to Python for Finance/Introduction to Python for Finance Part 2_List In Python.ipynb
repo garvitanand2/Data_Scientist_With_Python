{
 "cells": [
  {
   "cell_type": "markdown",
   "metadata": {},
   "source": [
    "# Lists in Python "
   ]
  },
  {
   "cell_type": "markdown",
   "metadata": {},
   "source": [
    "## data =  [1,2,3,4,5,6,7,8,9,10]\n",
    "\n",
    "> Examples of list \n",
    "\n",
    "> data.index(1) will return 0\n",
    "\n",
    "> print(data[start_index:end_index])\n",
    "\n",
    "> start_index is inclusive \n",
    "\n",
    "> end_index is excluded\n",
    "\n",
    "> print(data[0:9:2])\n",
    "\n",
    ">> 0 = Start index \n",
    "\n",
    ">> 9 = End index \n",
    "\n",
    ">> 2 = Jumping index "
   ]
  },
  {
   "cell_type": "code",
   "execution_count": 6,
   "metadata": {
    "scrolled": true
   },
   "outputs": [
    {
     "name": "stdout",
     "output_type": "stream",
     "text": [
      "0\n",
      "[3, 4, 5]\n",
      "[4, 5, 6, 7, 8, 9, 10]\n",
      "[1, 2, 3]\n",
      "[1, 3, 5, 7, 9]\n"
     ]
    }
   ],
   "source": [
    "data = [1,2,3,4,5,6,7,8,9,10]\n",
    "\n",
    "print(data.index(1))\n",
    "\n",
    "print(data[2:5])\n",
    "\n",
    "print(data[3:])\n",
    "print(data[:3])\n",
    "print(data[0:9:2])"
   ]
  },
  {
   "cell_type": "markdown",
   "metadata": {},
   "source": [
    "## Creating lists in Python\n",
    "\n",
    "A list in Python can contain any number of elements. You generally create a list using square brackets. For example, to create a list of integers, you can use the following command:\n",
    "\n",
    "x = [1, 2, 3]\n",
    "\n",
    "## Instructions\n",
    "\n",
    "> Create a list named names containing the strings 'Apple Inc', 'Coca-Cola', and 'Walmart', in that order.\n",
    "\n",
    "> Print names.\n",
    "\n",
    "> Create a list named prices containing the price of each stock, $159.54, $37.13, and $71.17, in \n",
    "that order.\n",
    "\n",
    "> Print prices."
   ]
  },
  {
   "cell_type": "code",
   "execution_count": 7,
   "metadata": {},
   "outputs": [
    {
     "name": "stdout",
     "output_type": "stream",
     "text": [
      "['Apple Inc', 'Coca-Cola', 'Walmart']\n",
      "[159.54, 37.13, 71.17]\n"
     ]
    }
   ],
   "source": [
    "# Create and print list names\n",
    "names = [ 'Apple Inc', 'Coca-Cola', 'Walmart']\n",
    "print(names)\n",
    "\n",
    "# Create and print list prices\n",
    "prices = [159.54, 37.13,  71.17]\n",
    "print(prices)"
   ]
  },
  {
   "cell_type": "markdown",
   "metadata": {},
   "source": [
    "## Indexing list items\n",
    "Each item in a list has an assigned indexed value. Remember that Python is a zero indexed language, and the first element in a list is stored at index zero. In this exercise, you will practice subsetting single elements from a list.\n",
    "\n",
    "Lists names and prices for company names and stock prices are available in your workspace.\n",
    "\n",
    "## Instructions\n",
    "\n",
    "> Print the first element in names.\n",
    "\n",
    "> Print the second element in names.\n",
    "\n",
    "> Using a negative index, print the last element in prices\n"
   ]
  },
  {
   "cell_type": "code",
   "execution_count": 8,
   "metadata": {},
   "outputs": [
    {
     "name": "stdout",
     "output_type": "stream",
     "text": [
      "Apple Inc\n",
      "Coca-Cola\n",
      "Walmart\n"
     ]
    }
   ],
   "source": [
    "# Print the first item in names\n",
    "print(names[0])\n",
    "\n",
    "# Print the second item in names\n",
    "print(names[1])\n",
    "\n",
    "# Print the last element in prices\n",
    "print(prices[-1])"
   ]
  },
  {
   "cell_type": "markdown",
   "metadata": {},
   "source": [
    "## Slicing multiple list elements\n",
    "Slicing operations on a list are used to subset multiple elements from a list. The syntax for list slicing is as follows:\n",
    "\n",
    "list[start:end]\n",
    "Remember, this syntax indicates subsetting all elements from the start and up to but not including the end element.\n",
    "\n",
    "Also, you can use extended slicing to efficiently select multiple elements from a list. For example, the following command returns all elements from the list except the first (at index 0):\n",
    "\n",
    "x = [1, 2, 3, 4, 5]\n",
    "x[1:]\n",
    "\n",
    "[2, 3, 4, 5]\n",
    "Similarly, the following command returns all elements from the list except the last two:\n",
    "\n",
    "x[:-2]\n",
    "\n",
    "[1, 2, 3]\n",
    "\n",
    "## Instructions 1/2\n",
    "\n",
    "> Use list slicing to subset the last two elements from names.\n",
    "\n",
    "> Use extended slicing and specifying appropriate indices to subset the first two elements from prices."
   ]
  },
  {
   "cell_type": "code",
   "execution_count": null,
   "metadata": {},
   "outputs": [],
   "source": [
    "# names\n",
    "names = ['Apple Inc', 'Coca-Cola', 'Walmart']\n",
    "\n",
    "# Use slicing on list names\n",
    "names_subset = names[1:]\n",
    "print(names_subset)"
   ]
  },
  {
   "cell_type": "code",
   "execution_count": 9,
   "metadata": {},
   "outputs": [
    {
     "name": "stdout",
     "output_type": "stream",
     "text": [
      "[159.54, 37.13]\n"
     ]
    }
   ],
   "source": [
    "# prices\n",
    "prices = [159.54, 37.13, 71.17]\n",
    "\n",
    "# Use extended slicing on the list prices\n",
    "prices_subset = prices[0:2]\n",
    "print(prices_subset)"
   ]
  },
  {
   "cell_type": "markdown",
   "metadata": {},
   "source": [
    "## Nested Lists\n",
    "\n",
    "> List is lists "
   ]
  },
  {
   "cell_type": "markdown",
   "metadata": {},
   "source": [
    "## Stock up a nested list\n",
    "Lists can also contain other lists. In the example shown below, x is a nested list consisting of three lists:\n",
    "\n",
    "x = [[1, 2, 3], [4, 5, 6], [7, 8, 9]]\n",
    "You can use indexing to subset lists within a nested list. To extract the first list within x, you can use the following command:\n",
    "\n",
    "x[0]\n",
    "\n",
    "[1, 2, 3]\n",
    "The two lists names and prices you created earlier are available in your workspace.\n",
    "\n",
    "## Instructions\n",
    "\n",
    "> Create a list named stocks consisting of the lists names and prices, in that order.\n",
    "\n",
    "> Use list indexing to subset the list prices from stocks (Remember that prices is the second element in stocks)."
   ]
  },
  {
   "cell_type": "code",
   "execution_count": 10,
   "metadata": {
    "scrolled": false
   },
   "outputs": [
    {
     "name": "stdout",
     "output_type": "stream",
     "text": [
      "[['Apple Inc', 'Coca-Cola', 'Walmart'], [159.54, 37.13, 71.17]]\n",
      "[159.54, 37.13, 71.17]\n"
     ]
    }
   ],
   "source": [
    "# Create and print the nested list stocks\n",
    "stocks = [names, prices]\n",
    "print(stocks)\n",
    "\n",
    "# Use list indexing to obtain the list of prices\n",
    "print(stocks[1])"
   ]
  },
  {
   "cell_type": "markdown",
   "metadata": {},
   "source": [
    "## Subset a nested list\n",
    "You can also extract an element from the list you extracted. To do this, you use two indices. The first index is the position of the list, and the second index is the position of the element within the list.\n",
    "\n",
    "For example, if you want to extract 7 from x, you can use the following command:\n",
    "\n",
    "x = [[1, 2, 3], [4, 5, 6], [7, 8, 9]]\n",
    "x[2][0]\n",
    "\n",
    "7\n",
    "Here the first index 2 refers to the third list in x and the second index 0 refers to the first element of the third list in x.\n",
    "\n",
    "The nested list stocks you created in the last exercise is available in your workspace and is printed in the IPython shell on the right.\n",
    "\n",
    "## Instructions\n",
    "\n",
    "> From the nested list stocks, subset 'Coca-Cola'.\n",
    "\n",
    "> From the nested list stocks, subset the price for Walmart stock, i.e., 71.17."
   ]
  },
  {
   "cell_type": "code",
   "execution_count": 11,
   "metadata": {},
   "outputs": [
    {
     "name": "stdout",
     "output_type": "stream",
     "text": [
      "Coca-Cola\n",
      "71.17\n"
     ]
    }
   ],
   "source": [
    "# Use indexing to obtain company name Coca-Cola\n",
    "print(stocks[0][1])\n",
    "\n",
    "# Use indexing to obtain 71.17\n",
    "print(stocks[1][2])"
   ]
  },
  {
   "cell_type": "markdown",
   "metadata": {},
   "source": [
    "# List Methods and Functions \n",
    "\n",
    "## type()\n",
    "\n",
    "## Methods \n",
    "\n",
    ">> All methods are functions \n",
    "\n",
    ">> List methods are a subset of built in function in python \n",
    "\n",
    "## Functions \n",
    "\n",
    ">> Not all functions are method\n",
    "\n",
    "\n",
    "## list.sort()\n",
    "\n",
    "> To sort the elements in the list \n",
    "\n",
    "## list.append()\n",
    "\n",
    "> To add element to the last elemnt in the list \n",
    "\n",
    "\n",
    "## list.extend()\n",
    "\n",
    "> To add multiple elements in a list in one shot \n",
    "\n",
    "## list.index(item)\n",
    "\n",
    "> Returns the index of item from the list \n",
    "\n",
    "\n",
    "## min(list)\n",
    "\n",
    "## max(list)\n",
    "\n",
    "\n"
   ]
  },
  {
   "cell_type": "markdown",
   "metadata": {},
   "source": [
    "## Exploring list methods and functions\n",
    "\n",
    "Lists methods and functions are useful for analyses. Functions take objects as inputs or are \"passed\" an object. Methods, in contrast, act on objects. For lists, useful functions include max() and min(), which identify the maximum or minimum value in a list. A useful list method is .sort() which sorts the elements in a list.\n",
    "\n",
    "## Instructions 1/2\n",
    "\n",
    "> Using the method .sort(), sort and print the prices in the list prices.\n",
    "\n",
    "> Identify the maximum price in prices using the function max()."
   ]
  },
  {
   "cell_type": "code",
   "execution_count": 12,
   "metadata": {
    "collapsed": true
   },
   "outputs": [
    {
     "name": "stdout",
     "output_type": "stream",
     "text": [
      "[37.13, 71.17, 159.54]\n"
     ]
    }
   ],
   "source": [
    "# Print the sorted list prices\n",
    "prices = [159.54, 37.13, 71.17]\n",
    "prices.sort()\n",
    "print(prices)"
   ]
  },
  {
   "cell_type": "code",
   "execution_count": 13,
   "metadata": {
    "collapsed": true
   },
   "outputs": [
    {
     "name": "stdout",
     "output_type": "stream",
     "text": [
      "159.54\n"
     ]
    }
   ],
   "source": [
    "# Find the maximum price in the list price\n",
    "prices = [159.54, 37.13, 71.17]\n",
    "price_max = max(prices)\n",
    "print(price_max)"
   ]
  },
  {
   "cell_type": "markdown",
   "metadata": {},
   "source": [
    "## Using list methods to add data\n",
    "You can use the .append() and .extend() methods to add elements to a list.\n",
    "\n",
    "The .append() method increases the length of the list by one, so if you want to add only one element to the list, you can use this method.\n",
    "\n",
    "x = [1, 2, 3]\n",
    "x.append(4)\n",
    "x\n",
    "\n",
    "[1, 2, 3, 4]\n",
    "The .extend() method increases the length of the list by the number of elements that are provided to the method, so if you want to add multiple elements to the list, you can use this method.\n",
    "\n",
    "x = [1, 2, 3]\n",
    "x.extend([4, 5])\n",
    "x\n",
    "\n",
    "[1, 2, 3, 4, 5]\n",
    "\n",
    "## Instructions\n",
    "\n",
    "> Add a single element, 'Amazon.com', to the names.\n",
    "\n",
    "> Add the list more_elements which consists of two elements to names."
   ]
  },
  {
   "cell_type": "code",
   "execution_count": 14,
   "metadata": {},
   "outputs": [
    {
     "name": "stdout",
     "output_type": "stream",
     "text": [
      "['Apple Inc', 'Coca-Cola', 'Walmart', 'Amazon.com']\n",
      "['Apple Inc', 'Coca-Cola', 'Walmart', 'Amazon.com', 'DowDuPont', 'Alphabet Inc']\n"
     ]
    }
   ],
   "source": [
    "# Append a name to the list names\n",
    "names.append('Amazon.com')\n",
    "print(names)\n",
    "\n",
    "# Extend list names\n",
    "more_elements = ['DowDuPont', 'Alphabet Inc']\n",
    "names.extend(more_elements)\n",
    "print(names)\n"
   ]
  },
  {
   "cell_type": "markdown",
   "metadata": {},
   "source": [
    "## Finding stock with maximum price\n",
    "Another useful list method is .index(), which returns the index of the element specified. For example, to get the index of 2 in x, you would use:\n",
    "\n",
    "x = [1, 2, 3, 4]\n",
    "x.index(2)\n",
    "\n",
    "1\n",
    "You can then use this result to subset another list, as you will do in this exercise.\n",
    "\n",
    "The lists prices and names are available in your workspace.\n",
    "\n",
    "## Instructions\n",
    "\n",
    "> Identify the index of max_price in the list prices.\n",
    "\n",
    "> Use this index on the names list to identify the company with maximum stock price."
   ]
  },
  {
   "cell_type": "code",
   "execution_count": 16,
   "metadata": {},
   "outputs": [
    {
     "name": "stdout",
     "output_type": "stream",
     "text": [
      "The largest stock price is associated with Apple Inc and is $159.54.\n"
     ]
    }
   ],
   "source": [
    "# Do not modify this\n",
    "max_price = max(prices)\n",
    "\n",
    "# Identify index of max price\n",
    "max_index = prices.index(max_price)\n",
    "\n",
    "# Identify the name of the company with max price\n",
    "max_stock_name = names[max_index]\n",
    "\n",
    "# Fill in the blanks \n",
    "print('The largest stock price is associated with ' + max_stock_name + ' and is $' + str(max_price) + '.')"
   ]
  }
 ],
 "metadata": {
  "kernelspec": {
   "display_name": "Python 3",
   "language": "python",
   "name": "python3"
  },
  "language_info": {
   "codemirror_mode": {
    "name": "ipython",
    "version": 3
   },
   "file_extension": ".py",
   "mimetype": "text/x-python",
   "name": "python",
   "nbconvert_exporter": "python",
   "pygments_lexer": "ipython3",
   "version": "3.7.1"
  }
 },
 "nbformat": 4,
 "nbformat_minor": 2
}
