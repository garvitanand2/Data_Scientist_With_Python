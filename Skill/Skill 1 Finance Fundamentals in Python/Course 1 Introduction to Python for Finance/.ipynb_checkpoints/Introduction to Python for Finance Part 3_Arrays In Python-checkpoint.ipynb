{
 "cells": [
  {
   "cell_type": "markdown",
   "metadata": {},
   "source": [
    "## Arrays In Python"
   ]
  },
  {
   "cell_type": "markdown",
   "metadata": {},
   "source": [
    "## Arrays \n",
    "\n",
    "### pip3 install package_name_here\n",
    "\n",
    "### pip3 install numpy \n",
    "\n",
    "### import package as alias\n",
    "\n",
    "> In list each element is has its own type \n",
    "\n",
    "> In numpy array it convert all the elemnts into most compatible type \n"
   ]
  },
  {
   "cell_type": "code",
   "execution_count": 2,
   "metadata": {},
   "outputs": [
    {
     "name": "stdout",
     "output_type": "stream",
     "text": [
      "List is  =  [1, 2, 3, 4, 5]\n",
      "Numpy array is [1 2 3 4 5]\n"
     ]
    }
   ],
   "source": [
    "import numpy as np\n",
    "list =  [1,2,3,4,5]\n",
    "np_list = np.array(list)\n",
    "print(\"List is  = \", list)\n",
    "print(\"Numpy array is\", np_list)"
   ]
  },
  {
   "cell_type": "markdown",
   "metadata": {},
   "source": [
    "## Create an array\n",
    "You can use the NumPy package to create arrays. NumPy arrays are optimized for numerical analyses and contain only a single data type. To convert a list to an array, you can use the array() function from NumPy.\n",
    "\n",
    "import numpy as np\n",
    "\n",
    "a_list = [1, 2, 3, 4]\n",
    "a_list\n",
    "\n",
    "[1, 2, 3, 4]\n",
    "\n",
    "an_array = np.array(a_list)\n",
    "an_array\n",
    "\n",
    "array([1, 2, 3, 4])\n",
    "\n",
    "## Instructions\n",
    "\n",
    "> Import numpy using the alias np.\n",
    "\n",
    ">Create prices_array and earnings_array arrays from the lists prices and earnings, respectively."
   ]
  },
  {
   "cell_type": "code",
   "execution_count": 23,
   "metadata": {},
   "outputs": [
    {
     "name": "stdout",
     "output_type": "stream",
     "text": [
      "[170.12  93.29  55.28 145.3  171.81  59.5  100.5 ]\n",
      "[ 9.2   5.31  2.41  5.91 15.42  2.51  6.79]\n"
     ]
    }
   ],
   "source": [
    "# Import numpy as np\n",
    "import numpy as np \n",
    "\n",
    "# Lists\n",
    "prices = [170.12, 93.29, 55.28, 145.30, 171.81, 59.50, 100.50]\n",
    "earnings = [9.2, 5.31, 2.41, 5.91, 15.42, 2.51, 6.79]\n",
    "\n",
    "# NumPy arrays\n",
    "prices_array = np.array(prices)\n",
    "earnings_array = np.array(earnings)\n",
    "\n",
    "# Print the arrays\n",
    "print(prices_array)\n",
    "print(earnings_array)"
   ]
  },
  {
   "cell_type": "markdown",
   "metadata": {},
   "source": [
    "## Elementwise operations on arrays\n",
    "Arrays allow for efficient numerical manipulation of its elements. Let's explore element-wise mathematical operations by calculating price to earnings ratio using two arrays, prices_array and earnings_array from the previous exercise.\n",
    "\n",
    "This price to earnings ratio, or PE ratio, is a financial indicator of the dollar amount an investor can expect to invest in a company in order to receive one dollar of that company’s earnings.\n",
    "\n",
    "prices_array and earnings_array are available in your workspace.\n",
    "\n",
    "## Instructions\n",
    "\n",
    "> Import numpy as np.\n",
    "\n",
    "> Create pe_array by dividing prices_array by earnings_array."
   ]
  },
  {
   "cell_type": "code",
   "execution_count": 24,
   "metadata": {},
   "outputs": [
    {
     "name": "stdout",
     "output_type": "stream",
     "text": [
      "[18.49130435 17.56873823 22.93775934 24.58544839 11.14202335 23.70517928\n",
      " 14.8011782 ]\n"
     ]
    }
   ],
   "source": [
    "# Import numpy as np\n",
    "import numpy as np\n",
    "\n",
    "# Create PE ratio array\n",
    "pe_array = prices_array/earnings_array\n",
    "\n",
    "# Print pe_array\n",
    "print(pe_array)"
   ]
  },
  {
   "cell_type": "markdown",
   "metadata": {},
   "source": [
    "## Subsetting elements from an array\n",
    "Subsetting arrays is similar to subsetting lists. In this exercise, you will practice just that.\n",
    "\n",
    "numpy is imported as np and prices_array is available in your workspace.\n",
    "\n",
    "## Instructions 1/3\n",
    "\n",
    "> Subset the first three elements from prices_array.\n",
    "\n",
    "> Subset the last three elements from the prices_array using negative index slicing.\n",
    "\n",
    "> Subset every third element from the prices_array using step slicing."
   ]
  },
  {
   "cell_type": "code",
   "execution_count": 25,
   "metadata": {},
   "outputs": [
    {
     "name": "stdout",
     "output_type": "stream",
     "text": [
      "[170.12  93.29  55.28]\n",
      "\n",
      "[171.81  59.5  100.5 ]\n",
      "\n",
      "[170.12 145.3  100.5 ]\n"
     ]
    }
   ],
   "source": [
    "# Subset the first three elements\n",
    "prices_subset_1 = prices_array[0:3]\n",
    "print(prices_subset_1)\n",
    "print()\n",
    "# Subset last three elements \n",
    "prices_subset_2 = prices_array[-3:]\n",
    "print(prices_subset_2)\n",
    "print()\n",
    "# Subset every third element\n",
    "prices_subset_3 = prices_array[0:7:3]\n",
    "print(prices_subset_3)"
   ]
  },
  {
   "cell_type": "markdown",
   "metadata": {},
   "source": [
    "## 2-Dimensional Array\n",
    "\n",
    "## data.shape()\n",
    "\n",
    "## data.size()\n"
   ]
  },
  {
   "cell_type": "code",
   "execution_count": 18,
   "metadata": {
    "scrolled": true
   },
   "outputs": [
    {
     "name": "stdout",
     "output_type": "stream",
     "text": [
      "[[ 1  2  3  4]\n",
      " [10 20 30  5]]\n",
      "\n",
      "(2, 4)\n",
      "\n",
      "8\n",
      "\n",
      "9.375\n",
      "\n",
      "[ 1  2  3  4  5  6  7  8  9 10 11 12 13 14]\n",
      "\n",
      "[ 1  3  5  7  9 11 13 15 17 19]\n",
      "\n",
      "[ 2  4  6  8 10 12 14 16 18]\n",
      "\n",
      "Transpose of array [[ 1 10]\n",
      " [ 2 20]\n",
      " [ 3 30]\n",
      " [ 4  5]]\n"
     ]
    }
   ],
   "source": [
    "import numpy as np \n",
    "months =  [1,2,3,4]\n",
    "prices = [10,20,30,5]\n",
    "cpi_array = np.array([months,prices])\n",
    "print(cpi_array)\n",
    "print()\n",
    "print(cpi_array.shape)\n",
    "print()\n",
    "print(cpi_array.size)\n",
    "print()\n",
    "print(cpi_array.mean())\n",
    "print()\n",
    "sample_months = np.arange(1,15)\n",
    "print(sample_months)\n",
    "print()\n",
    "odd_nos =  np.arange(1,20,2)\n",
    "print(odd_nos)\n",
    "print()\n",
    "even_nos =  np.arange(2,20,2)\n",
    "print(even_nos)\n",
    "print()\n",
    "print(\"Transpose of array\",np.transpose(cpi_array))"
   ]
  },
  {
   "cell_type": "markdown",
   "metadata": {},
   "source": [
    "## Creating a 2D array\n",
    "Multi-dimensional arrays can be useful for several tasks. In finance, for example, a 2D array may be used to store the prices and earnings for various companies. Let's create this 2D array, stock_array, from a list of prices and earnings.\n",
    "\n",
    "numpy is imported as np and the two lists prices and earnings are available in your workspace.\n",
    "\n",
    "## Instructions 1/2\n",
    "\n",
    "> Create a two dimensional array of prices and earnings (in that order) and assign it to stock_array.\n",
    "\n",
    "> Print the shape of stock_array.\n",
    "\n",
    "> Transpose stock_array and assign the result to stock_array_transposed.\n",
    "\n",
    "> Print the size of stock_array_transposed.\n",
    "\n",
    ">Extract the first column from stock_array_transposed and assign it to prices.\n"
   ]
  },
  {
   "cell_type": "code",
   "execution_count": 27,
   "metadata": {},
   "outputs": [
    {
     "name": "stdout",
     "output_type": "stream",
     "text": [
      "[[170.12  93.29  55.28 145.3  171.81  59.5  100.5 ]\n",
      " [  9.2    5.31   2.41   5.91  15.42   2.51   6.79]]\n",
      "\n",
      "(2, 7)\n",
      "\n",
      "14\n",
      "\n",
      "[[170.12   9.2 ]\n",
      " [ 93.29   5.31]\n",
      " [ 55.28   2.41]\n",
      " [145.3    5.91]\n",
      " [171.81  15.42]\n",
      " [ 59.5    2.51]\n",
      " [100.5    6.79]]\n",
      "\n",
      "(7, 2)\n",
      "\n",
      "14\n",
      "\n"
     ]
    }
   ],
   "source": [
    "# Create a 2D array of prices and earnings\n",
    "stock_array = np.array([prices,earnings])\n",
    "print(stock_array)\n",
    "print()\n",
    "# Print the shape of stock_array\n",
    "print(stock_array.shape)\n",
    "print()\n",
    "# Print the size of stock_array\n",
    "print(stock_array.size)\n",
    "print()\n",
    "\n",
    "# Transpose stock_array\n",
    "stock_array_transposed = np.transpose(stock_array)\n",
    "print(stock_array_transposed)\n",
    "print()\n",
    "# Print the shape of stock_array\n",
    "print(stock_array_transposed.shape)\n",
    "print()\n",
    "# Print the size of stock_array\n",
    "print(stock_array_transposed.size)\n",
    "print()"
   ]
  },
  {
   "cell_type": "markdown",
   "metadata": {},
   "source": [
    "## Subsetting 2D arrays\n",
    "Subsetting 2D arrays is similar to subsetting nested lists. In a 2D array, the indexing or slicing must be specific to the dimension of the array:\n",
    "\n",
    "array[row_index, column_index]\n",
    "numpy is imported as np and the 2D array stock_array_transposed (from the previous exercise) is available in your workspace.\n",
    "\n",
    "## Instructions 1/3\n",
    "\n",
    "> Extract the first column from stock_array_transposed and assign it to prices."
   ]
  },
  {
   "cell_type": "code",
   "execution_count": 28,
   "metadata": {},
   "outputs": [
    {
     "name": "stdout",
     "output_type": "stream",
     "text": [
      "[170.12  93.29  55.28 145.3  171.81  59.5  100.5 ]\n",
      "\n",
      "[ 9.2   5.31  2.41  5.91 15.42  2.51  6.79]\n",
      "\n",
      "[170.12   9.2 ]\n"
     ]
    }
   ],
   "source": [
    "# Subset prices from stock_array_transposed\n",
    "prices = stock_array_transposed[:, 0]\n",
    "print(prices)\n",
    "print()\n",
    "# Subset earnings from stock_array_transposed\n",
    "earnings = stock_array_transposed[:,1]\n",
    "print(earnings)\n",
    "print()\n",
    "# Subset the price and earning for first company\n",
    "company_1 = stock_array_transposed[0]\n",
    "print(company_1)"
   ]
  },
  {
   "cell_type": "markdown",
   "metadata": {},
   "source": [
    "### Calculating array stats\n",
    "Not only can you perform elementwise calculations on NumPy arrays, you can also calculate summary stats such as mean and standard deviation of arrays using functions from NumPy.\n",
    "\n",
    "numpy is imported as np and the array prices (from the previous exercise) is available in your workspace.\n",
    "\n",
    "## Instructions 1/2\n",
    "\n",
    "> Calculate the mean of prices.\n",
    "\n",
    "> Calculate the standard deviation of prices."
   ]
  },
  {
   "cell_type": "code",
   "execution_count": 31,
   "metadata": {
    "scrolled": true
   },
   "outputs": [
    {
     "name": "stdout",
     "output_type": "stream",
     "text": [
      "Mean is  113.6857142857143\n",
      "STD is  45.51277932221513\n"
     ]
    }
   ],
   "source": [
    "# Calculate the mean \n",
    "prices_mean = np.mean(prices)\n",
    "print(\"Mean is \", prices_mean)\n",
    "\n",
    "# Calculate the standard deviation \n",
    "prices_std = np.std(prices)\n",
    "print(\"STD is \",prices_std)\n",
    "      "
   ]
  },
  {
   "cell_type": "markdown",
   "metadata": {},
   "source": [
    "## Generating a sequence of numbers\n",
    "You may want to create an array of a range of numbers (e.g., 1 to 10) without having to type in every single number. The NumPy function arange() is an efficient way to create numeric arrays of a range of numbers. The arguments for arange() include the start, stop, and step interval as shown below:\n",
    "\n",
    "np.arange(start, stop, step)\n",
    "numpy is imported as np.\n",
    "\n",
    "## Instructions\n",
    "\n",
    "> Create an array company_ids containing the numbers 1 through 7 (inclusive).\n",
    "\n",
    "> Create an array company_ids_odd containing only the odd numbers from 1 through 7 (inclusive)."
   ]
  },
  {
   "cell_type": "code",
   "execution_count": 32,
   "metadata": {},
   "outputs": [
    {
     "name": "stdout",
     "output_type": "stream",
     "text": [
      "[1 2 3 4 5 6 7]\n",
      "[1 3 5 7]\n"
     ]
    }
   ],
   "source": [
    "# Create and print company_ids\n",
    "company_ids = np.arange(1, 8, 1)\n",
    "print(company_ids)\n",
    "\n",
    "# Create and print company_ids_odd\n",
    "company_ids_odd = np.arange(1, 8, 2)\n",
    "print(company_ids_odd)"
   ]
  },
  {
   "cell_type": "markdown",
   "metadata": {},
   "source": [
    "## Using arrays for analysis"
   ]
  },
  {
   "cell_type": "code",
   "execution_count": 22,
   "metadata": {
    "scrolled": true
   },
   "outputs": [
    {
     "name": "stdout",
     "output_type": "stream",
     "text": [
      "['Jan' 'Feb' 'Mar' 'April' 'May' 'Jun']\n",
      "['Feb' 'April' 'Jun']\n"
     ]
    }
   ],
   "source": [
    "months = ['Jan',\"Feb\",'Mar','April','May','Jun']\n",
    "months_arr  = np.array(months)\n",
    "print(months_arr)\n",
    "index_arr = np.array([1,3,5])\n",
    "\n",
    "months_subset =  months_arr[index_arr]\n",
    "print(months_subset)\n"
   ]
  },
  {
   "cell_type": "markdown",
   "metadata": {},
   "source": [
    "## Who's above average?\n",
    "Boolean arrays can be a very powerful way to subset arrays. In this exercise, you will identify the prices that are greater than average from a list of prices.\n",
    "\n",
    "numpy is imported as np and the array prices is available in your workspace.\n",
    "\n",
    "## Instructions\n",
    "\n",
    "> Find elements in prices that are greater than price_mean and assign the boolean result to boolean_array.\n",
    "\n",
    "> Subset prices using boolean_array and assign the result to above_avg."
   ]
  },
  {
   "cell_type": "code",
   "execution_count": 33,
   "metadata": {},
   "outputs": [
    {
     "name": "stdout",
     "output_type": "stream",
     "text": [
      "[ True False False  True  True False False]\n",
      "[170.12 145.3  171.81]\n"
     ]
    }
   ],
   "source": [
    "# Find the mean\n",
    "price_mean = np.mean(prices)\n",
    "\n",
    "# Create boolean array\n",
    "boolean_array = (prices>price_mean)\n",
    "print(boolean_array)\n",
    "\n",
    "# Select prices that are greater than average\n",
    "above_avg = prices[boolean_array]\n",
    "print(above_avg)"
   ]
  },
  {
   "cell_type": "markdown",
   "metadata": {},
   "source": [
    "## Who's in health care?\n",
    "In this exercise, you are provided the names of companies with their associated sector, and your goal is to find all companies that are associated with health care sector.\n",
    "\n",
    "numpy is imported as np and the arrays names and sectors are available in your workspace.\n",
    "\n",
    "## Instructions\n",
    "\n",
    "> Find elements in sectors that are equivalent to 'Health Care' and assign the result to boolean_array.\n",
    "\n",
    "> Subset names using boolean_array and assign the result to health_care."
   ]
  },
  {
   "cell_type": "code",
   "execution_count": 36,
   "metadata": {},
   "outputs": [
    {
     "name": "stdout",
     "output_type": "stream",
     "text": [
      "False\n",
      "Apple Inc\n"
     ]
    }
   ],
   "source": [
    "# Create boolean array\n",
    "names =  ['Apple Inc', 'Abbvie Inc', 'Abbott Laboratories',\n",
    "       'Accenture Technologies', 'Allergan Plc']\n",
    "sectors=  ['Information Technology', 'Health Care', 'Health Care',\n",
    "             'Information Technologies', 'Health Care']\n",
    "boolean_array = (sectors == 'Health Care')\n",
    "print(boolean_array)\n",
    "\n",
    "# Print only health care companies\n",
    "health_care = names[boolean_array]\n",
    "print(health_care)"
   ]
  }
 ],
 "metadata": {
  "kernelspec": {
   "display_name": "Python 3",
   "language": "python",
   "name": "python3"
  },
  "language_info": {
   "codemirror_mode": {
    "name": "ipython",
    "version": 3
   },
   "file_extension": ".py",
   "mimetype": "text/x-python",
   "name": "python",
   "nbconvert_exporter": "python",
   "pygments_lexer": "ipython3",
   "version": "3.7.1"
  }
 },
 "nbformat": 4,
 "nbformat_minor": 2
}
