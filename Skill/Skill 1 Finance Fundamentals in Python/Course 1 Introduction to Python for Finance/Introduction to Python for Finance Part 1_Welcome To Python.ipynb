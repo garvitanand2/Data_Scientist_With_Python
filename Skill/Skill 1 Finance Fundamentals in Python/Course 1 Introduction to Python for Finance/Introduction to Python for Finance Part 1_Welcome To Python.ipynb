{
 "cells": [
  {
   "cell_type": "markdown",
   "metadata": {},
   "source": [
    "# Welcome To Python  By Adina Howe"
   ]
  },
  {
   "cell_type": "markdown",
   "metadata": {},
   "source": [
    "#### Python \n",
    "\n",
    "> Easy to learn \n",
    "\n",
    "> General purpose \n",
    "\n",
    "> Dynamic \n",
    "\n",
    "> High level language \n",
    "\n",
    "> Integrates with other languages \n",
    "\n",
    "> Open Source \n",
    "\n",
    "> Programming in python is fun "
   ]
  },
  {
   "cell_type": "code",
   "execution_count": 5,
   "metadata": {},
   "outputs": [
    {
     "name": "stdout",
     "output_type": "stream",
     "text": [
      "Welcome to the world of Python\n",
      "\n",
      "Sum of two numbers is =  2\n",
      "\n",
      "2 to the power 3 is =  8\n"
     ]
    }
   ],
   "source": [
    "print(\"Welcome to the world of Python\")\n",
    "print()\n",
    "print(\"Sum of two numbers is = \",1+1)\n",
    "print()\n",
    "print(\"2 to the power 3 is = \", 2 ** 3)"
   ]
  },
  {
   "cell_type": "markdown",
   "metadata": {},
   "source": [
    "#### Why might you use Python in finance?\n",
    "\n",
    "##### Python is routinely used in financial quantitative analyses. What applications might you use Python for in finance?\n",
    "\n",
    "Ans : \n",
    "> 1 To compile monthly sales reports\n",
    "\n",
    "> 2 To optimize an investment strategies performance\n",
    "\n",
    "> 3 Visualizing stock data trends\n",
    "\n",
    "\n"
   ]
  },
  {
   "cell_type": "markdown",
   "metadata": {},
   "source": [
    "## Printing output\n",
    "The print() function in a Python script explicitly prints the output. It is time to write your first line of Python code with and without the print() function to observe how it impacts the output of a script.\n",
    "\n",
    "## Instructions 1/2\n",
    "\n",
    "> Write a command that adds 10 and 2."
   ]
  },
  {
   "cell_type": "code",
   "execution_count": 8,
   "metadata": {},
   "outputs": [
    {
     "data": {
      "text/plain": [
       "12"
      ]
     },
     "execution_count": 8,
     "metadata": {},
     "output_type": "execute_result"
    }
   ],
   "source": [
    "10 + 2"
   ]
  },
  {
   "cell_type": "markdown",
   "metadata": {},
   "source": [
    "## Printing output\n",
    "The print() function in a Python script explicitly prints the output. It is time to write your first line of Python code with and without the print() function to observe how it impacts the output of a script.\n",
    "\n",
    "## Instructions 2/2\n",
    "\n",
    "> Write a command that multiplies 10 and 2.\n",
    "\n",
    "> Print this output explicitly."
   ]
  },
  {
   "cell_type": "code",
   "execution_count": 9,
   "metadata": {},
   "outputs": [
    {
     "name": "stdout",
     "output_type": "stream",
     "text": [
      "20\n"
     ]
    }
   ],
   "source": [
    "10 * 2 \n",
    "print(10 * 2)"
   ]
  },
  {
   "cell_type": "markdown",
   "metadata": {},
   "source": [
    "## Finding the average revenue\n",
    "\n",
    "Variables can be used to store information and efficiently recover and manipulate stored values.\n",
    "\n",
    "The revenue of three companies have been stored in three variables: revenue_1, revenue_2, and revenue_3.\n",
    "Let's calculate the total revenue and the average revenue of these companies.\n",
    "\n",
    "## Instructions 1/2\n",
    "\n",
    "> Create a new variable, total that represents the sum of revenue_1, revenue_2 and revenue_3."
   ]
  },
  {
   "cell_type": "code",
   "execution_count": 10,
   "metadata": {},
   "outputs": [
    {
     "name": "stdout",
     "output_type": "stream",
     "text": [
      "497.04\n"
     ]
    }
   ],
   "source": [
    "revenue_1 = 229.23\n",
    "revenue_2 = 177.86\n",
    "revenue_3 = 89.95\n",
    "total =  revenue_1 + revenue_2 + revenue_3\n",
    "print(total)"
   ]
  },
  {
   "cell_type": "markdown",
   "metadata": {},
   "source": [
    "## Finding the average revenue\n",
    "Variables can be used to store information and efficiently recover and manipulate stored values.\n",
    "\n",
    "The revenue of three companies have been stored in three variables: revenue_1, revenue_2, and revenue_3.\n",
    "Let's calculate the total revenue and the average revenue of these companies.\n",
    "\n",
    "## Instructions 2/2\n",
    "\n",
    "Find the average of total.\n",
    "\n"
   ]
  },
  {
   "cell_type": "code",
   "execution_count": 13,
   "metadata": {},
   "outputs": [
    {
     "name": "stdout",
     "output_type": "stream",
     "text": [
      "Total revenue collected  is =  497.04\n",
      "Average revenue is =  165.68\n"
     ]
    }
   ],
   "source": [
    "# Print the total revenue\n",
    "total = revenue_1 + revenue_2 + revenue_3\n",
    "print(\"Total revenue collected  is = \", total)\n",
    "\n",
    "# Print the average revenue\n",
    "average = total / 3\n",
    "print(\"Average revenue is = \", average)"
   ]
  },
  {
   "cell_type": "markdown",
   "metadata": {},
   "source": [
    "## Variable Data Types\n",
    "\n",
    "> Strings = \"hello world\"\n",
    "\n",
    "> Integers =  40\n",
    "\n",
    "> Floats = 3.14\n",
    "\n",
    "> Booleans =  True or False \n",
    "\n",
    "## type()\n",
    "\n",
    "> type() is used to return the data type of the variables \n"
   ]
  },
  {
   "cell_type": "code",
   "execution_count": 14,
   "metadata": {},
   "outputs": [
    {
     "name": "stdout",
     "output_type": "stream",
     "text": [
      "15\n",
      "hellohellohello\n"
     ]
    },
    {
     "ename": "TypeError",
     "evalue": "can only concatenate str (not \"int\") to str",
     "output_type": "error",
     "traceback": [
      "\u001b[1;31m---------------------------------------------------------------------------\u001b[0m",
      "\u001b[1;31mTypeError\u001b[0m                                 Traceback (most recent call last)",
      "\u001b[1;32m<ipython-input-14-dc84768f7e2b>\u001b[0m in \u001b[0;36m<module>\u001b[1;34m\u001b[0m\n\u001b[0;32m      5\u001b[0m \u001b[0mprint\u001b[0m\u001b[1;33m(\u001b[0m\u001b[0my\u001b[0m\u001b[1;33m*\u001b[0m\u001b[1;36m3\u001b[0m\u001b[1;33m)\u001b[0m\u001b[1;33m\u001b[0m\u001b[1;33m\u001b[0m\u001b[0m\n\u001b[0;32m      6\u001b[0m \u001b[1;33m\u001b[0m\u001b[0m\n\u001b[1;32m----> 7\u001b[1;33m \u001b[0mprint\u001b[0m\u001b[1;33m(\u001b[0m\u001b[0my\u001b[0m\u001b[1;33m+\u001b[0m\u001b[1;36m3\u001b[0m\u001b[1;33m)\u001b[0m\u001b[1;33m\u001b[0m\u001b[1;33m\u001b[0m\u001b[0m\n\u001b[0m",
      "\u001b[1;31mTypeError\u001b[0m: can only concatenate str (not \"int\") to str"
     ]
    }
   ],
   "source": [
    "x = 5\n",
    "print(x *3)\n",
    "\n",
    "y =  \"hello\"\n",
    "print(y*3)\n",
    "\n",
    "print(y+3)"
   ]
  },
  {
   "cell_type": "markdown",
   "metadata": {},
   "source": [
    "## Creating variables\n",
    "Variables in Python hold a value that may consist of varying data types. Variable names can contain letters, underscores, and numbers.\n",
    "\n",
    "Let's create three types of Python variables that might be useful in finance.\n",
    "\n",
    "## Instructions 1/3\n",
    "\n",
    "> Assign the string 'Apple' to the variable company_1.\n",
    "\n",
    "> Assign the integer 2017 to the variable year_1.\n",
    "\n",
    "> Assign the float 229.23 to the variable revenue_1."
   ]
  },
  {
   "cell_type": "code",
   "execution_count": 15,
   "metadata": {},
   "outputs": [
    {
     "name": "stdout",
     "output_type": "stream",
     "text": [
      "Apple\n"
     ]
    }
   ],
   "source": [
    "# Create company_1\n",
    "company_1 = 'Apple'\n",
    "print(company_1)"
   ]
  },
  {
   "cell_type": "code",
   "execution_count": 17,
   "metadata": {},
   "outputs": [
    {
     "name": "stdout",
     "output_type": "stream",
     "text": [
      "2017\n"
     ]
    }
   ],
   "source": [
    "# Create year_1\n",
    "year_1 = 2017\n",
    "print(year_1)"
   ]
  },
  {
   "cell_type": "code",
   "execution_count": 16,
   "metadata": {},
   "outputs": [
    {
     "name": "stdout",
     "output_type": "stream",
     "text": [
      "229.23\n"
     ]
    }
   ],
   "source": [
    "# Create revenue_1\n",
    "revenue_1 = 229.23\n",
    "print(revenue_1)"
   ]
  },
  {
   "cell_type": "markdown",
   "metadata": {},
   "source": [
    "## Determining types\n",
    "\n",
    "Python has a built-in command type() that can determine the type of a variable or literal value. Let's determine the data types of the variables you created in the last exercise.\n",
    "\n",
    "## Instructions\n",
    "\n",
    "Print the data types associated with the variables company_1, year_1 and revenue_1."
   ]
  },
  {
   "cell_type": "code",
   "execution_count": 18,
   "metadata": {},
   "outputs": [
    {
     "name": "stdout",
     "output_type": "stream",
     "text": [
      "<class 'str'>\n",
      "<class 'int'>\n",
      "<class 'float'>\n"
     ]
    }
   ],
   "source": [
    "# Type of company_1\n",
    "print(type(company_1))\n",
    "\n",
    "# Type of year_1\n",
    "print(type(year_1))\n",
    "\n",
    "# Type of revenue_1\n",
    "print(type(revenue_1))"
   ]
  },
  {
   "cell_type": "markdown",
   "metadata": {},
   "source": [
    "## Booleans in Python\n",
    "Booleans are used to represent True or False statements in Python. Boolean comparisons include:\n",
    "\n",
    "operators\tdescriptions\n",
    "#### >\tgreater than\n",
    "#### >=\tgreater than or equal\n",
    "#### <\tless than\n",
    "#### <=\tless than or equal\n",
    "#### ==\tequal\n",
    "#### !=\tdoes not equal\n",
    "Let's use boolean comparison operations to assess the revenues of three companies.\n",
    "\n",
    "## Instructions 1/2\n",
    "\n",
    "> The name of company 1 is provided as company_1. Determine if the variable test_company is equivalent to company_1.\n",
    "\n",
    "> The revenue of company 1 and company 2 are provided as revenue_1 and revenue_2, respectively. Using a comparison operator, determine if revenue_1 is greater than revenue_2."
   ]
  },
  {
   "cell_type": "code",
   "execution_count": 19,
   "metadata": {
    "scrolled": true
   },
   "outputs": [
    {
     "name": "stdout",
     "output_type": "stream",
     "text": [
      "False\n"
     ]
    }
   ],
   "source": [
    "# Test equality\n",
    "test_company = 'apple'\n",
    "print(company_1 == test_company)"
   ]
  },
  {
   "cell_type": "code",
   "execution_count": 20,
   "metadata": {},
   "outputs": [
    {
     "name": "stdout",
     "output_type": "stream",
     "text": [
      "True\n"
     ]
    }
   ],
   "source": [
    "# Compare revenue_1 and revenue_2\n",
    "print(revenue_1 > revenue_2)"
   ]
  },
  {
   "cell_type": "markdown",
   "metadata": {},
   "source": [
    "## Combining data types\n",
    "Different types of data types have different properties. For example, strings and floats cannot be mathematically combined. To convert a variable x to an integer, you can use the command int(x). Similarly, to convert a variable y to a string, you can use the command str(y).\n",
    "\n",
    "It's time for you to change some data types to complete and print a statement.\n",
    "\n",
    "The variables company_1, year_1, and revenue_1 are available in your workspace.\n",
    "\n",
    "## Instructions\n",
    "\n",
    "> Convert the data type of variables year_1, and revenue_1 to string.\n",
    "\n",
    "> Use these new variables to create and print the following sentence: \"The revenue of Apple in 2017 was $229.23 billion.\""
   ]
  },
  {
   "cell_type": "code",
   "execution_count": 23,
   "metadata": {},
   "outputs": [
    {
     "name": "stdout",
     "output_type": "stream",
     "text": [
      "The revenue of Apple in 2017 was $229.23 billion.\n"
     ]
    }
   ],
   "source": [
    "# Update data types\n",
    "year_1_str = str(year_1)\n",
    "revenue_1_str = str(revenue_1)\n",
    "\n",
    "# Create a complete sentence combining only the string data types\n",
    "sentence = 'The revenue of ' + company_1 + ' in ' + year_1_str + ' was $' + revenue_1_str + ' billion.'\n",
    "\n",
    "# Print sentence\n",
    "print(sentence)"
   ]
  }
 ],
 "metadata": {
  "kernelspec": {
   "display_name": "Python 3",
   "language": "python",
   "name": "python3"
  },
  "language_info": {
   "codemirror_mode": {
    "name": "ipython",
    "version": 3
   },
   "file_extension": ".py",
   "mimetype": "text/x-python",
   "name": "python",
   "nbconvert_exporter": "python",
   "pygments_lexer": "ipython3",
   "version": "3.7.1"
  }
 },
 "nbformat": 4,
 "nbformat_minor": 2
}
