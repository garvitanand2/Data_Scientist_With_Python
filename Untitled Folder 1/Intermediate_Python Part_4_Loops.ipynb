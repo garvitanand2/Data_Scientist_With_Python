{
 "cells": [
  {
   "cell_type": "markdown",
   "metadata": {},
   "source": [
    "# Various Loops in Python"
   ]
  },
  {
   "cell_type": "markdown",
   "metadata": {},
   "source": [
    "## WHILE LOOP\n",
    "\n",
    "> While loop continnues to execute unless the condition is evaluates to true \n",
    "\n",
    "> While condition :\n",
    "\n",
    ">>>> expression \n"
   ]
  },
  {
   "cell_type": "code",
   "execution_count": 1,
   "metadata": {
    "scrolled": true
   },
   "outputs": [
    {
     "name": "stdout",
     "output_type": "stream",
     "text": [
      "Error current value is =  25.0\n",
      "Error current value is =  12.5\n",
      "Error current value is =  6.25\n",
      "Error current value is =  3.125\n",
      "Error current value is =  1.5625\n",
      "Error current value is =  0.78125\n"
     ]
    }
   ],
   "source": [
    "error = 50\n",
    "while error > 1:\n",
    "    error = error / 2 \n",
    "    print(\"Error current value is = \", error)"
   ]
  },
  {
   "cell_type": "markdown",
   "metadata": {},
   "source": [
    "### Basic while loop\n",
    "\n",
    "Below you can find the example from the video where the error variable, initially equal to 50.0, is divided by 4 and printed out on every run:\n",
    "\n",
    "error = 50.0\n",
    "while error > 1 :\n",
    "    error = error / 4\n",
    "    print(error)\n",
    "\n",
    "This example will come in handy, because it's time to build a while loop yourself! We're going to code a while loop that implements a very basic control system for an inverted pendulum. If there's an offset from standing perfectly straight, the while loop will incrementally fix this offset.\n",
    "\n",
    "Note that if your while loop takes too long to run, you might have made a mistake. In particular, remember to indent the contents of the loop!\n",
    "\n",
    "## Instructions\n",
    "\n",
    "> Create the variable offset with an initial value of 8.\n",
    "\n",
    "> Code a while loop that keeps running as long as offset is not equal to 0. Inside the while loop:\n",
    "\n",
    "> Print out the sentence \"correcting...\".\n",
    "\n",
    "> Next, decrease the value of offset by 1. You can do this with offset = offset - 1.\n",
    "\n",
    "> Finally, still within your loop, print out offset so you can see how it changes."
   ]
  },
  {
   "cell_type": "code",
   "execution_count": 2,
   "metadata": {},
   "outputs": [
    {
     "name": "stdout",
     "output_type": "stream",
     "text": [
      "correcting...\n",
      "7\n",
      "correcting...\n",
      "6\n",
      "correcting...\n",
      "5\n",
      "correcting...\n",
      "4\n",
      "correcting...\n",
      "3\n",
      "correcting...\n",
      "2\n",
      "correcting...\n",
      "1\n",
      "correcting...\n",
      "0\n"
     ]
    }
   ],
   "source": [
    "# Initialize offset\n",
    "offset = 8\n",
    "\n",
    "\n",
    "# Code the while loop\n",
    "while offset!=0:\n",
    "    print( \"correcting...\")\n",
    "    offset -=1\n",
    "    print(offset)\n",
    "     \n",
    "     \n",
    "   "
   ]
  },
  {
   "cell_type": "markdown",
   "metadata": {},
   "source": [
    "## Add conditionals\n",
    "The while loop that corrects the offset is a good start, but what if offset is negative? You can try to run the following code where offset is initialized to -6:\n",
    "\n",
    "Initialize offset\n",
    "offset = -6\n",
    "\n",
    "# Code the while loop\n",
    "while offset != 0 :\n",
    "    print(\"correcting...\")\n",
    "    offset = offset - 1\n",
    "    print(offset)\n",
    "but your session will be disconnected. The while loop will never stop running, because offset will be further decreased on every run. offset != 0 will never become False and the while loop continues forever.\n",
    "\n",
    "Fix things by putting an if-else statement inside the while loop. If your code is still taking too long to run, you probably made a mistake!\n",
    "\n",
    "## Instructions\n",
    "\n",
    "> Inside the while loop, complete the if-else statement:\n",
    "\n",
    "> If offset is greater than zero, you should decrease offset by 1.\n",
    "\n",
    "> Else, you should increase offset by 1.\n",
    "\n",
    "> If you've coded things correctly, hitting Submit Answer should work this time.\n",
    "\n",
    "> If your code is still taking too long to run (or your session is expiring), you probably made a mistake. Check your code and make sure that the statement offset != 0 will eventually evaluate to FALSE!"
   ]
  },
  {
   "cell_type": "code",
   "execution_count": 3,
   "metadata": {},
   "outputs": [
    {
     "name": "stdout",
     "output_type": "stream",
     "text": [
      "correcting...\n",
      "-5\n",
      "correcting...\n",
      "-4\n",
      "correcting...\n",
      "-3\n",
      "correcting...\n",
      "-2\n",
      "correcting...\n",
      "-1\n",
      "correcting...\n",
      "0\n"
     ]
    }
   ],
   "source": [
    "# Initialize offset\n",
    "offset = -6\n",
    "\n",
    "# Code the while loop\n",
    "while offset != 0 :\n",
    "    print(\"correcting...\")\n",
    "    if (offset>0) :\n",
    "      offset-=1\n",
    "\n",
    "    else : \n",
    "      offset +=1    \n",
    "    print(offset)"
   ]
  },
  {
   "cell_type": "markdown",
   "metadata": {},
   "source": [
    "# For Loop In Python "
   ]
  },
  {
   "cell_type": "markdown",
   "metadata": {},
   "source": [
    "> for var in seq :\n",
    "\n",
    ">>>> expresion "
   ]
  },
  {
   "cell_type": "code",
   "execution_count": 7,
   "metadata": {
    "scrolled": true
   },
   "outputs": [
    {
     "name": "stdout",
     "output_type": "stream",
     "text": [
      "Item at the index is  1  =  1\n",
      "Item at the index is  2  =  2\n",
      "Item at the index is  3  =  3\n",
      "Item at the index is  4  =  4\n",
      "Item at the index is  5  =  5\n",
      "Item at the index is  6  =  6\n",
      "Item at the index is  7  =  7\n",
      "Item at the index is  8  =  8\n",
      "Item at the index is  9  =  9\n",
      "Item at the index is  8  =  8\n",
      "Item at the index is  5  =  5\n"
     ]
    }
   ],
   "source": [
    "list = [1,2,3,4,5,6,7,8,9,8,5]\n",
    "for item in list:\n",
    "    print(\"Item at the index is \", item , \" = \",list[item-1])"
   ]
  },
  {
   "cell_type": "markdown",
   "metadata": {},
   "source": [
    "## Loop over a list\n",
    "Have another look at the for loop that Hugo showed in the video:\n",
    "\n",
    "fam = [1.73, 1.68, 1.71, 1.89]\n",
    "\n",
    "> for height in fam : \n",
    ">>>> print(height)\n",
    "\n",
    "As usual, you simply have to indent the code with 4 spaces to tell Python which code should be executed in the for loop.\n",
    "\n",
    "The areas variable, containing the area of different rooms in your house, is already defined.\n",
    "\n",
    "## Instructions\n",
    "\n",
    "> Write a for loop that iterates over all elements of the areas list and prints out every element separately."
   ]
  },
  {
   "cell_type": "code",
   "execution_count": 8,
   "metadata": {},
   "outputs": [
    {
     "name": "stdout",
     "output_type": "stream",
     "text": [
      "11.25\n",
      "18.0\n",
      "20.0\n",
      "10.75\n",
      "9.5\n"
     ]
    }
   ],
   "source": [
    "# areas list\n",
    "areas = [11.25, 18.0, 20.0, 10.75, 9.50]\n",
    "\n",
    "# Code the for loop\n",
    "for ele in areas:\n",
    "    print(ele)"
   ]
  },
  {
   "cell_type": "markdown",
   "metadata": {},
   "source": [
    "## Indexes and values (1)\n",
    "Using a for loop to iterate over a list only gives you access to every list element in each run, one after the other. If you also want to access the index information, so where the list element you're iterating over is located, you can use enumerate().\n",
    "\n",
    "As an example, have a look at how the for loop from the video was converted:\n",
    "\n",
    "fam = [1.73, 1.68, 1.71, 1.89]\n",
    "for index, height in enumerate(fam) :\n",
    "    print(\"person \" + str(index) + \": \" + str(height))\n",
    "## Instructions\n",
    "\n",
    "> Adapt the for loop in the sample code to use enumerate() and use two iterator variables.\n",
    "\n",
    "> Update the print() statement so that on each run, a line of the form \"room x: y\" should be printed, where x is the index of the list element and y is the actual list element, i.e. the area. Make sure to print out this exact string, with the correct spacing."
   ]
  },
  {
   "cell_type": "code",
   "execution_count": 9,
   "metadata": {
    "scrolled": true
   },
   "outputs": [
    {
     "name": "stdout",
     "output_type": "stream",
     "text": [
      "room 0:11.25\n",
      "room 1:18.0\n",
      "room 2:20.0\n",
      "room 3:10.75\n",
      "room 4:9.5\n"
     ]
    }
   ],
   "source": [
    "# areas list\n",
    "areas = [11.25, 18.0, 20.0, 10.75, 9.50]\n",
    "\n",
    "# Change for loop to use enumerate() and update print()\n",
    "for index, a in enumerate(areas) :\n",
    "    print(\"room \" +str(index) + \":\" + str(a))"
   ]
  },
  {
   "cell_type": "markdown",
   "metadata": {},
   "source": [
    "## Indexes and values (2)\n",
    "For non-programmer folks, room 0: 11.25 is strange. Wouldn't it be better if the count started at 1?\n",
    "\n",
    "## Instructions\n",
    "\n",
    "Adapt the print() function in the for loop on the right so that the first printout becomes \"room 1: 11.25\", the second one \"room 2: 18.0\" and so on."
   ]
  },
  {
   "cell_type": "code",
   "execution_count": 10,
   "metadata": {
    "scrolled": true
   },
   "outputs": [
    {
     "name": "stdout",
     "output_type": "stream",
     "text": [
      "room 1: 11.25\n",
      "room 2: 18.0\n",
      "room 3: 20.0\n",
      "room 4: 10.75\n",
      "room 5: 9.5\n"
     ]
    }
   ],
   "source": [
    "# areas list\n",
    "areas = [11.25, 18.0, 20.0, 10.75, 9.50]\n",
    "\n",
    "# Code the for loop\n",
    "for index, area in enumerate(areas) :\n",
    "    print(\"room \" + str(index+1) + \": \" + str(area))"
   ]
  },
  {
   "cell_type": "markdown",
   "metadata": {},
   "source": [
    "## Loop over list of lists\n",
    "Remember the house variable from the Intro to Python course? Have a look at its definition on the right. It's basically a list of lists, where each sublist contains the name and area of a room in your house.\n",
    "\n",
    "It's up to you to build a for loop from scratch this time!\n",
    "\n",
    "## Instructions\n",
    "\n",
    "Write a for loop that goes through each sublist of house and prints out the x is y sqm, where x is the name of the room and y is the area of the room."
   ]
  },
  {
   "cell_type": "code",
   "execution_count": 13,
   "metadata": {},
   "outputs": [
    {
     "name": "stdout",
     "output_type": "stream",
     "text": [
      "The hallway is 11.25 sqm\n",
      "\n",
      "The kitchen is 18.0 sqm\n",
      "\n",
      "The living room is 20.0 sqm\n",
      "\n",
      "The bedroom is 10.75 sqm\n",
      "\n",
      "The bathroom is 9.5 sqm\n",
      "\n"
     ]
    }
   ],
   "source": [
    "# house list of lists\n",
    "house = [[\"hallway\", 11.25], \n",
    "         [\"kitchen\", 18.0], \n",
    "         [\"living room\", 20.0], \n",
    "         [\"bedroom\", 10.75], \n",
    "         [\"bathroom\", 9.50]]\n",
    "         \n",
    "# Build a for loop from scratch\n",
    "for ele in house:\n",
    "    print(\"The \" + str(ele[0]) + \" is \" + str(ele[1]) + \" sqm\")\n",
    "    print()"
   ]
  },
  {
   "cell_type": "markdown",
   "metadata": {},
   "source": [
    "# Loop Data Structure "
   ]
  },
  {
   "cell_type": "code",
   "execution_count": 18,
   "metadata": {},
   "outputs": [
    {
     "name": "stdout",
     "output_type": "stream",
     "text": [
      "a ----> 1\n",
      "b ----> 2\n",
      "c ----> 3\n",
      "d ----> 4\n"
     ]
    }
   ],
   "source": [
    "data = {\"a\":1,\"b\":2, \"c\":3, \"d\":4}\n",
    "for key, value in data.items():\n",
    "    print(key + \" ----> \" + str(value))"
   ]
  },
  {
   "cell_type": "markdown",
   "metadata": {},
   "source": [
    "## Loop over dictionary\n",
    "In Python 3, you need the items() method to loop over a dictionary:\n",
    "\n",
    "world = { \"afghanistan\":30.55, \n",
    "          \"albania\":2.77,\n",
    "          \"algeria\":39.21 }\n",
    "\n",
    "for key, value in world.items() :\n",
    "   \n",
    "   print(key + \" -- \" + str(value))\n",
    "\n",
    "Remember the europe dictionary that contained the names of some European countries as key and \n",
    "\n",
    "their capitals as corresponding value? Go ahead and write a loop to iterate over it!\n",
    "\n",
    "## Instructions\n",
    "\n",
    "Write a for loop that goes through each key:value pair of europe. On each iteration, \"the capital of x is y\" should be printed out, where x is the key and y is the value of the pair."
   ]
  },
  {
   "cell_type": "code",
   "execution_count": 22,
   "metadata": {
    "scrolled": true
   },
   "outputs": [
    {
     "name": "stdout",
     "output_type": "stream",
     "text": [
      "The capital of spain is madrid\n",
      "The capital of france is paris\n",
      "The capital of germany is berlin\n",
      "The capital of norway is oslo\n",
      "The capital of italy is rome\n",
      "The capital of poland is warsaw\n",
      "The capital of austria is vienna\n"
     ]
    }
   ],
   "source": [
    "# Definition of dictionary\n",
    "europe = {'spain':'madrid', 'france':'paris', 'germany':'berlin',\n",
    "          'norway':'oslo', 'italy':'rome', 'poland':'warsaw', 'austria':'vienna' }\n",
    "          \n",
    "# Iterate over europe\n",
    "for key, value in europe.items():\n",
    "    print(\"The capital of \"+ str(key) + \" is \" + str(value))"
   ]
  },
  {
   "cell_type": "markdown",
   "metadata": {},
   "source": [
    "## Loop over Numpy array\n",
    "If you're dealing with a 1D Numpy array, looping over all elements can be as simple as:\n",
    "\n",
    "for x in my_array :\n",
    "    ...\n",
    "If you're dealing with a 2D Numpy array, it's more complicated. A 2D array is built up of multiple 1D arrays. To explicitly iterate over all separate elements of a multi-dimensional array, you'll need this syntax:\n",
    "\n",
    "for x in np.nditer(my_array) :\n",
    "    ...\n",
    "Two Numpy arrays that you might recognize from the intro course are available in your Python session: np_height, a Numpy array containing the heights of Major League Baseball players, and np_baseball, a 2D Numpy array that contains both the heights (first column) and weights (second column) of those players.\n",
    "\n",
    "## Instructions\n",
    "\n",
    "> Import the numpy package under the local alias np.\n",
    "\n",
    "> Write a for loop that iterates over all elements in np_height and prints out \"x inches\" for each element, where x is the value in the array.\n",
    "\n",
    "> Write a for loop that visits every element of the np_baseball array and prints it out."
   ]
  },
  {
   "cell_type": "code",
   "execution_count": 27,
   "metadata": {},
   "outputs": [
    {
     "name": "stdout",
     "output_type": "stream",
     "text": [
      "1 inches\n",
      "2 inches\n",
      "4 inches\n",
      "5 inches\n",
      "5 inches\n",
      "4 inches\n",
      "5 inches\n",
      "4 inches\n",
      "400\n",
      "50\n",
      "60\n",
      "70\n",
      "80\n",
      "90\n",
      "60\n",
      "20\n",
      "21\n",
      "48\n"
     ]
    }
   ],
   "source": [
    "# Import numpy as np\n",
    "import numpy as np\n",
    "np_height = [1,2,4,5,5,4,5,4]\n",
    "np_base = [400,50,60,70,80,90,60,20,21,48]\n",
    "np_baseball = np.array(np_base)\n",
    "# For loop over np_height\n",
    "for ele in (np_height):\n",
    "    print(str(ele) + \" inches\")\n",
    "\n",
    "# For loop over np_baseball\n",
    "\n",
    "for ele in np.nditer(np_baseball):\n",
    "    print(ele)"
   ]
  },
  {
   "cell_type": "code",
   "execution_count": 33,
   "metadata": {},
   "outputs": [
    {
     "name": "stdout",
     "output_type": "stream",
     "text": [
      "         country    capital    area  population\n",
      "BR        Brazil   Brasilia   8.516      200.40\n",
      "RU        Russia     Moscow  17.100      143.50\n",
      "IN         India  New Delhi   3.286     1252.00\n",
      "CH         China    Beijing   9.597     1357.00\n",
      "SA  South Africa   Pretoria   1.221       52.98\n",
      "         country\n",
      "BR        Brazil\n",
      "RU        Russia\n",
      "IN         India\n",
      "CH         China\n",
      "SA  South Africa\n",
      "\n",
      "\n",
      "\n",
      "\n",
      "      capital\n",
      "BR   Brasilia\n",
      "RU     Moscow\n",
      "IN  New Delhi\n",
      "CH    Beijing\n",
      "SA   Pretoria\n",
      "\n",
      "\n",
      "\n",
      "\n",
      "      area\n",
      "BR   8.516\n",
      "RU  17.100\n",
      "IN   3.286\n",
      "CH   9.597\n",
      "SA   1.221\n",
      "\n",
      "\n",
      "\n",
      "\n",
      "    population\n",
      "BR      200.40\n",
      "RU      143.50\n",
      "IN     1252.00\n",
      "CH     1357.00\n",
      "SA       52.98\n",
      "\n",
      "\n",
      "\n",
      "\n"
     ]
    }
   ],
   "source": [
    "# Import pandas as pd\n",
    "import pandas as pd\n",
    "\n",
    "# Import the cars.csv data: cars\n",
    "\n",
    "bricks = pd.read_csv(r'C:\\Users\\Garvit\\Desktop\\Machine Learning\\Datacamp\\Untitled Folder 1\\Bricks.csv', index_col=0) \n",
    "# Print out cars\n",
    "print(bricks)\n",
    "\n",
    "\n",
    "for item in bricks:\n",
    "    print(bricks[[item]])\n",
    "    print()\n",
    "    print()\n",
    "    print()\n",
    "    print()"
   ]
  },
  {
   "cell_type": "code",
   "execution_count": 35,
   "metadata": {},
   "outputs": [
    {
     "name": "stdout",
     "output_type": "stream",
     "text": [
      "BR\n",
      "country         Brazil\n",
      "capital       Brasilia\n",
      "area             8.516\n",
      "population       200.4\n",
      "Name: BR, dtype: object\n",
      "\n",
      "RU\n",
      "country       Russia\n",
      "capital       Moscow\n",
      "area            17.1\n",
      "population     143.5\n",
      "Name: RU, dtype: object\n",
      "\n",
      "IN\n",
      "country           India\n",
      "capital       New Delhi\n",
      "area              3.286\n",
      "population         1252\n",
      "Name: IN, dtype: object\n",
      "\n",
      "CH\n",
      "country         China\n",
      "capital       Beijing\n",
      "area            9.597\n",
      "population       1357\n",
      "Name: CH, dtype: object\n",
      "\n",
      "SA\n",
      "country       South Africa\n",
      "capital           Pretoria\n",
      "area                 1.221\n",
      "population           52.98\n",
      "Name: SA, dtype: object\n",
      "\n"
     ]
    }
   ],
   "source": [
    "for lab, rows in bricks.iterrows():\n",
    "    print(lab)\n",
    "    print(rows)\n",
    "    print()"
   ]
  },
  {
   "cell_type": "code",
   "execution_count": 40,
   "metadata": {},
   "outputs": [
    {
     "name": "stdout",
     "output_type": "stream",
     "text": [
      "         country    capital    area  population  Name_Length\n",
      "BR        Brazil   Brasilia   8.516      200.40            6\n",
      "RU        Russia     Moscow  17.100      143.50            6\n",
      "IN         India  New Delhi   3.286     1252.00            5\n",
      "CH         China    Beijing   9.597     1357.00            5\n",
      "SA  South Africa   Pretoria   1.221       52.98           12\n"
     ]
    }
   ],
   "source": [
    "bricks['Name_Length'] = bricks[\"country\"].apply(len)\n",
    "print(bricks)"
   ]
  },
  {
   "cell_type": "markdown",
   "metadata": {},
   "source": [
    "## Loop over DataFrame (1)\n",
    "Iterating over a Pandas DataFrame is typically done with the iterrows() method. Used in a for loop, every observation is iterated over and on every iteration the row label and actual row contents are available:\n",
    "\n",
    "for lab, row in brics.iterrows() :\n",
    "    ...\n",
    "In this and the following exercises you will be working on the cars DataFrame. It contains information on the cars per capita and whether people drive right or left for seven countries in the world.\n",
    "\n",
    "## Instructions\n",
    "\n",
    "> Write a for loop that iterates over the rows of cars and on each iteration perform two print() calls: one to print out the row label and one to print out all of the rows contents."
   ]
  },
  {
   "cell_type": "code",
   "execution_count": 43,
   "metadata": {},
   "outputs": [
    {
     "name": "stdout",
     "output_type": "stream",
     "text": [
      "US\n",
      "cars_per_cap              809\n",
      "country         United States\n",
      "drives_right             True\n",
      "Name: US, dtype: object\n",
      "\n",
      "\n",
      "AUS\n",
      "cars_per_cap          731\n",
      "country         Australia\n",
      "drives_right        False\n",
      "Name: AUS, dtype: object\n",
      "\n",
      "\n",
      "JAP\n",
      "cars_per_cap      588\n",
      "country         Japan\n",
      "drives_right    False\n",
      "Name: JAP, dtype: object\n",
      "\n",
      "\n",
      "IN\n",
      "cars_per_cap       18\n",
      "country         India\n",
      "drives_right    False\n",
      "Name: IN, dtype: object\n",
      "\n",
      "\n",
      "RU\n",
      "cars_per_cap       200\n",
      "country         Russia\n",
      "drives_right      True\n",
      "Name: RU, dtype: object\n",
      "\n",
      "\n",
      "MOR\n",
      "cars_per_cap         70\n",
      "country         Morocco\n",
      "drives_right       True\n",
      "Name: MOR, dtype: object\n",
      "\n",
      "\n",
      "EG\n",
      "cars_per_cap       45\n",
      "country         Egypt\n",
      "drives_right     True\n",
      "Name: EG, dtype: object\n",
      "\n",
      "\n"
     ]
    }
   ],
   "source": [
    "# Import cars data\n",
    "import pandas as pd\n",
    "for lab, row in cars.iterrows():\n",
    "    print(lab)\n",
    "    print(row)\n",
    "    print()\n",
    "    print()"
   ]
  },
  {
   "cell_type": "markdown",
   "metadata": {},
   "source": [
    "## Loop over DataFrame (2)\n",
    "The row data that's generated by iterrows() on every run is a Pandas Series. This format is not very convenient to print out. Luckily, you can easily select variables from the Pandas Series using square brackets:\n",
    "\n",
    "for lab, row in brics.iterrows() :\n",
    "    print(row['country'])\n",
    "## Instructions\n",
    "\n",
    "> Using the iterators lab and row, adapt the code in the for loop such that the first iteration prints out \"US: 809\", the second iteration \"AUS: 731\", and so on.\n",
    "\n",
    "> The output should be in the form \"country: cars_per_cap\". Make sure to print out this exact string (with the correct spacing).\n",
    "\n",
    "> You can use str() to convert your integer data to a string so that you can print it in conjunction with the country label."
   ]
  },
  {
   "cell_type": "code",
   "execution_count": 44,
   "metadata": {
    "scrolled": true
   },
   "outputs": [
    {
     "name": "stdout",
     "output_type": "stream",
     "text": [
      "US: 809\n",
      "AUS: 731\n",
      "JAP: 588\n",
      "IN: 18\n",
      "RU: 200\n",
      "MOR: 70\n",
      "EG: 45\n"
     ]
    }
   ],
   "source": [
    "# Import cars data\n",
    "import pandas as pd\n",
    "cars = pd.read_csv('cars.csv', index_col = 0)\n",
    "\n",
    "# Adapt for loop\n",
    "for lab, row in cars.iterrows() :\n",
    "    print(lab + \": \" + str(row['cars_per_cap']))\n",
    "    # print(row['cars_per_cap'])"
   ]
  },
  {
   "cell_type": "markdown",
   "metadata": {},
   "source": [
    "## Add column (1)\n",
    "In the video, Hugo showed you how to add the length of the country names of the brics DataFrame in a new column:\n",
    "\n",
    "for lab, row in brics.iterrows() :\n",
    "    brics.loc[lab, \"name_length\"] = len(row[\"country\"])\n",
    "You can do similar things on the cars DataFrame.\n",
    "\n",
    "## Instructions\n",
    "\n",
    "> Use a for loop to add a new column, named COUNTRY, that contains a uppercase version of the country names in the \"country\" column. You can use the string method upper() for this.\n",
    "\n",
    "> To see if your code worked, print out cars. Don't indent this code, so that it's not part of the for loop."
   ]
  },
  {
   "cell_type": "code",
   "execution_count": 54,
   "metadata": {},
   "outputs": [
    {
     "name": "stdout",
     "output_type": "stream",
     "text": [
      "     cars_per_cap        country  drives_right        COUNTRY\n",
      "US            809  United States          True  UNITED STATES\n",
      "AUS           731      Australia         False      AUSTRALIA\n",
      "JAP           588          Japan         False          JAPAN\n",
      "IN             18          India         False          INDIA\n",
      "RU            200         Russia          True         RUSSIA\n",
      "MOR            70        Morocco          True        MOROCCO\n",
      "EG             45          Egypt          True          EGYPT\n"
     ]
    }
   ],
   "source": [
    "# ars = pd.read_csv('cars.csv', index_col = 0)\n",
    "\n",
    "# Code for loop that adds COUNTRY column\n",
    "for lab, row in cars.iterrows() :\n",
    "    cars.loc[lab, \"COUNTRY\"] = row[\"country\"].upper()\n",
    "    \n",
    "# Print cars\n",
    "print(cars)"
   ]
  }
 ],
 "metadata": {
  "kernelspec": {
   "display_name": "Python 3",
   "language": "python",
   "name": "python3"
  },
  "language_info": {
   "codemirror_mode": {
    "name": "ipython",
    "version": 3
   },
   "file_extension": ".py",
   "mimetype": "text/x-python",
   "name": "python",
   "nbconvert_exporter": "python",
   "pygments_lexer": "ipython3",
   "version": "3.7.1"
  }
 },
 "nbformat": 4,
 "nbformat_minor": 2
}
